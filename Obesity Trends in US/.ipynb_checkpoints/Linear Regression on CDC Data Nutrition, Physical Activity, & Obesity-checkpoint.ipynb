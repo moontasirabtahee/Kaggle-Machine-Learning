{
 "cells": [
  {
   "cell_type": "markdown",
   "source": [
    "# Import Libraries and Dataset "
   ],
   "metadata": {
    "collapsed": false
   },
   "id": "35f5715c79dba679"
  },
  {
   "cell_type": "code",
   "execution_count": 1,
   "id": "initial_id",
   "metadata": {
    "collapsed": true,
    "ExecuteTime": {
     "end_time": "2023-12-29T08:42:42.907052300Z",
     "start_time": "2023-12-29T08:42:42.218998700Z"
    }
   },
   "outputs": [],
   "source": [
    "# Import Library\n",
    "\n",
    "import numpy as np\n",
    "import pandas as pd\n",
    "from sklearn.linear_model import LinearRegression\n",
    "from sklearn.metrics import mean_squared_error\n",
    "from sklearn.model_selection import train_test_split\n",
    "from sklearn.preprocessing import LabelEncoder\n",
    "from sklearn.metrics import confusion_matrix"
   ]
  },
  {
   "cell_type": "code",
   "outputs": [
    {
     "data": {
      "text/plain": "   YearStart  YearEnd LocationAbbr LocationDesc  \\\n0       2011     2011           AL      Alabama   \n1       2011     2011           AL      Alabama   \n2       2011     2011           AL      Alabama   \n3       2011     2011           AL      Alabama   \n4       2011     2011           AL      Alabama   \n5       2011     2011           AL      Alabama   \n6       2011     2011           AL      Alabama   \n7       2011     2011           AL      Alabama   \n8       2011     2011           AL      Alabama   \n9       2011     2011           AL      Alabama   \n\n                                   Datasource                    Class  \\\n0  Behavioral Risk Factor Surveillance System  Obesity / Weight Status   \n1  Behavioral Risk Factor Surveillance System  Obesity / Weight Status   \n2  Behavioral Risk Factor Surveillance System  Obesity / Weight Status   \n3  Behavioral Risk Factor Surveillance System  Obesity / Weight Status   \n4  Behavioral Risk Factor Surveillance System  Obesity / Weight Status   \n5  Behavioral Risk Factor Surveillance System  Obesity / Weight Status   \n6  Behavioral Risk Factor Surveillance System  Obesity / Weight Status   \n7  Behavioral Risk Factor Surveillance System  Obesity / Weight Status   \n8  Behavioral Risk Factor Surveillance System  Obesity / Weight Status   \n9  Behavioral Risk Factor Surveillance System  Obesity / Weight Status   \n\n                     Topic                                           Question  \\\n0  Obesity / Weight Status  Percent of adults aged 18 years and older who ...   \n1  Obesity / Weight Status  Percent of adults aged 18 years and older who ...   \n2  Obesity / Weight Status  Percent of adults aged 18 years and older who ...   \n3  Obesity / Weight Status  Percent of adults aged 18 years and older who ...   \n4  Obesity / Weight Status  Percent of adults aged 18 years and older who ...   \n5  Obesity / Weight Status  Percent of adults aged 18 years and older who ...   \n6  Obesity / Weight Status  Percent of adults aged 18 years and older who ...   \n7  Obesity / Weight Status  Percent of adults aged 18 years and older who ...   \n8  Obesity / Weight Status  Percent of adults aged 18 years and older who ...   \n9  Obesity / Weight Status  Percent of adults aged 18 years and older who ...   \n\n   Data_Value_Unit Data_Value_Type  ...  \\\n0              NaN           Value  ...   \n1              NaN           Value  ...   \n2              NaN           Value  ...   \n3              NaN           Value  ...   \n4              NaN           Value  ...   \n5              NaN           Value  ...   \n6              NaN           Value  ...   \n7              NaN           Value  ...   \n8              NaN           Value  ...   \n9              NaN           Value  ...   \n\n                               GeoLocation  ClassID TopicID QuestionID  \\\n0  (32.84057112200048, -86.63186076199969)      OWS    OWS1       Q036   \n1  (32.84057112200048, -86.63186076199969)      OWS    OWS1       Q036   \n2  (32.84057112200048, -86.63186076199969)      OWS    OWS1       Q036   \n3  (32.84057112200048, -86.63186076199969)      OWS    OWS1       Q036   \n4  (32.84057112200048, -86.63186076199969)      OWS    OWS1       Q036   \n5  (32.84057112200048, -86.63186076199969)      OWS    OWS1       Q036   \n6  (32.84057112200048, -86.63186076199969)      OWS    OWS1       Q036   \n7  (32.84057112200048, -86.63186076199969)      OWS    OWS1       Q036   \n8  (32.84057112200048, -86.63186076199969)      OWS    OWS1       Q036   \n9  (32.84057112200048, -86.63186076199969)      OWS    OWS1       Q036   \n\n   DataValueTypeID  LocationID  StratificationCategory1  \\\n0            VALUE           1                    Total   \n1            VALUE           1                   Gender   \n2            VALUE           1                   Gender   \n3            VALUE           1                Education   \n4            VALUE           1                Education   \n5            VALUE           1                Education   \n6            VALUE           1                Education   \n7            VALUE           1              Age (years)   \n8            VALUE           1              Age (years)   \n9            VALUE           1              Age (years)   \n\n                    Stratification1 StratificationCategoryId1  \\\n0                             Total                       OVR   \n1                              Male                       GEN   \n2                            Female                       GEN   \n3             Less than high school                       EDU   \n4              High school graduate                       EDU   \n5  Some college or technical school                       EDU   \n6                  College graduate                       EDU   \n7                           18 - 24                     AGEYR   \n8                           25 - 34                     AGEYR   \n9                           35 - 44                     AGEYR   \n\n  StratificationID1  \n0           OVERALL  \n1              MALE  \n2            FEMALE  \n3             EDUHS  \n4         EDUHSGRAD  \n5          EDUCOTEC  \n6         EDUCOGRAD  \n7         AGEYR1824  \n8         AGEYR2534  \n9         AGEYR3544  \n\n[10 rows x 33 columns]",
      "text/html": "<div>\n<style scoped>\n    .dataframe tbody tr th:only-of-type {\n        vertical-align: middle;\n    }\n\n    .dataframe tbody tr th {\n        vertical-align: top;\n    }\n\n    .dataframe thead th {\n        text-align: right;\n    }\n</style>\n<table border=\"1\" class=\"dataframe\">\n  <thead>\n    <tr style=\"text-align: right;\">\n      <th></th>\n      <th>YearStart</th>\n      <th>YearEnd</th>\n      <th>LocationAbbr</th>\n      <th>LocationDesc</th>\n      <th>Datasource</th>\n      <th>Class</th>\n      <th>Topic</th>\n      <th>Question</th>\n      <th>Data_Value_Unit</th>\n      <th>Data_Value_Type</th>\n      <th>...</th>\n      <th>GeoLocation</th>\n      <th>ClassID</th>\n      <th>TopicID</th>\n      <th>QuestionID</th>\n      <th>DataValueTypeID</th>\n      <th>LocationID</th>\n      <th>StratificationCategory1</th>\n      <th>Stratification1</th>\n      <th>StratificationCategoryId1</th>\n      <th>StratificationID1</th>\n    </tr>\n  </thead>\n  <tbody>\n    <tr>\n      <th>0</th>\n      <td>2011</td>\n      <td>2011</td>\n      <td>AL</td>\n      <td>Alabama</td>\n      <td>Behavioral Risk Factor Surveillance System</td>\n      <td>Obesity / Weight Status</td>\n      <td>Obesity / Weight Status</td>\n      <td>Percent of adults aged 18 years and older who ...</td>\n      <td>NaN</td>\n      <td>Value</td>\n      <td>...</td>\n      <td>(32.84057112200048, -86.63186076199969)</td>\n      <td>OWS</td>\n      <td>OWS1</td>\n      <td>Q036</td>\n      <td>VALUE</td>\n      <td>1</td>\n      <td>Total</td>\n      <td>Total</td>\n      <td>OVR</td>\n      <td>OVERALL</td>\n    </tr>\n    <tr>\n      <th>1</th>\n      <td>2011</td>\n      <td>2011</td>\n      <td>AL</td>\n      <td>Alabama</td>\n      <td>Behavioral Risk Factor Surveillance System</td>\n      <td>Obesity / Weight Status</td>\n      <td>Obesity / Weight Status</td>\n      <td>Percent of adults aged 18 years and older who ...</td>\n      <td>NaN</td>\n      <td>Value</td>\n      <td>...</td>\n      <td>(32.84057112200048, -86.63186076199969)</td>\n      <td>OWS</td>\n      <td>OWS1</td>\n      <td>Q036</td>\n      <td>VALUE</td>\n      <td>1</td>\n      <td>Gender</td>\n      <td>Male</td>\n      <td>GEN</td>\n      <td>MALE</td>\n    </tr>\n    <tr>\n      <th>2</th>\n      <td>2011</td>\n      <td>2011</td>\n      <td>AL</td>\n      <td>Alabama</td>\n      <td>Behavioral Risk Factor Surveillance System</td>\n      <td>Obesity / Weight Status</td>\n      <td>Obesity / Weight Status</td>\n      <td>Percent of adults aged 18 years and older who ...</td>\n      <td>NaN</td>\n      <td>Value</td>\n      <td>...</td>\n      <td>(32.84057112200048, -86.63186076199969)</td>\n      <td>OWS</td>\n      <td>OWS1</td>\n      <td>Q036</td>\n      <td>VALUE</td>\n      <td>1</td>\n      <td>Gender</td>\n      <td>Female</td>\n      <td>GEN</td>\n      <td>FEMALE</td>\n    </tr>\n    <tr>\n      <th>3</th>\n      <td>2011</td>\n      <td>2011</td>\n      <td>AL</td>\n      <td>Alabama</td>\n      <td>Behavioral Risk Factor Surveillance System</td>\n      <td>Obesity / Weight Status</td>\n      <td>Obesity / Weight Status</td>\n      <td>Percent of adults aged 18 years and older who ...</td>\n      <td>NaN</td>\n      <td>Value</td>\n      <td>...</td>\n      <td>(32.84057112200048, -86.63186076199969)</td>\n      <td>OWS</td>\n      <td>OWS1</td>\n      <td>Q036</td>\n      <td>VALUE</td>\n      <td>1</td>\n      <td>Education</td>\n      <td>Less than high school</td>\n      <td>EDU</td>\n      <td>EDUHS</td>\n    </tr>\n    <tr>\n      <th>4</th>\n      <td>2011</td>\n      <td>2011</td>\n      <td>AL</td>\n      <td>Alabama</td>\n      <td>Behavioral Risk Factor Surveillance System</td>\n      <td>Obesity / Weight Status</td>\n      <td>Obesity / Weight Status</td>\n      <td>Percent of adults aged 18 years and older who ...</td>\n      <td>NaN</td>\n      <td>Value</td>\n      <td>...</td>\n      <td>(32.84057112200048, -86.63186076199969)</td>\n      <td>OWS</td>\n      <td>OWS1</td>\n      <td>Q036</td>\n      <td>VALUE</td>\n      <td>1</td>\n      <td>Education</td>\n      <td>High school graduate</td>\n      <td>EDU</td>\n      <td>EDUHSGRAD</td>\n    </tr>\n    <tr>\n      <th>5</th>\n      <td>2011</td>\n      <td>2011</td>\n      <td>AL</td>\n      <td>Alabama</td>\n      <td>Behavioral Risk Factor Surveillance System</td>\n      <td>Obesity / Weight Status</td>\n      <td>Obesity / Weight Status</td>\n      <td>Percent of adults aged 18 years and older who ...</td>\n      <td>NaN</td>\n      <td>Value</td>\n      <td>...</td>\n      <td>(32.84057112200048, -86.63186076199969)</td>\n      <td>OWS</td>\n      <td>OWS1</td>\n      <td>Q036</td>\n      <td>VALUE</td>\n      <td>1</td>\n      <td>Education</td>\n      <td>Some college or technical school</td>\n      <td>EDU</td>\n      <td>EDUCOTEC</td>\n    </tr>\n    <tr>\n      <th>6</th>\n      <td>2011</td>\n      <td>2011</td>\n      <td>AL</td>\n      <td>Alabama</td>\n      <td>Behavioral Risk Factor Surveillance System</td>\n      <td>Obesity / Weight Status</td>\n      <td>Obesity / Weight Status</td>\n      <td>Percent of adults aged 18 years and older who ...</td>\n      <td>NaN</td>\n      <td>Value</td>\n      <td>...</td>\n      <td>(32.84057112200048, -86.63186076199969)</td>\n      <td>OWS</td>\n      <td>OWS1</td>\n      <td>Q036</td>\n      <td>VALUE</td>\n      <td>1</td>\n      <td>Education</td>\n      <td>College graduate</td>\n      <td>EDU</td>\n      <td>EDUCOGRAD</td>\n    </tr>\n    <tr>\n      <th>7</th>\n      <td>2011</td>\n      <td>2011</td>\n      <td>AL</td>\n      <td>Alabama</td>\n      <td>Behavioral Risk Factor Surveillance System</td>\n      <td>Obesity / Weight Status</td>\n      <td>Obesity / Weight Status</td>\n      <td>Percent of adults aged 18 years and older who ...</td>\n      <td>NaN</td>\n      <td>Value</td>\n      <td>...</td>\n      <td>(32.84057112200048, -86.63186076199969)</td>\n      <td>OWS</td>\n      <td>OWS1</td>\n      <td>Q036</td>\n      <td>VALUE</td>\n      <td>1</td>\n      <td>Age (years)</td>\n      <td>18 - 24</td>\n      <td>AGEYR</td>\n      <td>AGEYR1824</td>\n    </tr>\n    <tr>\n      <th>8</th>\n      <td>2011</td>\n      <td>2011</td>\n      <td>AL</td>\n      <td>Alabama</td>\n      <td>Behavioral Risk Factor Surveillance System</td>\n      <td>Obesity / Weight Status</td>\n      <td>Obesity / Weight Status</td>\n      <td>Percent of adults aged 18 years and older who ...</td>\n      <td>NaN</td>\n      <td>Value</td>\n      <td>...</td>\n      <td>(32.84057112200048, -86.63186076199969)</td>\n      <td>OWS</td>\n      <td>OWS1</td>\n      <td>Q036</td>\n      <td>VALUE</td>\n      <td>1</td>\n      <td>Age (years)</td>\n      <td>25 - 34</td>\n      <td>AGEYR</td>\n      <td>AGEYR2534</td>\n    </tr>\n    <tr>\n      <th>9</th>\n      <td>2011</td>\n      <td>2011</td>\n      <td>AL</td>\n      <td>Alabama</td>\n      <td>Behavioral Risk Factor Surveillance System</td>\n      <td>Obesity / Weight Status</td>\n      <td>Obesity / Weight Status</td>\n      <td>Percent of adults aged 18 years and older who ...</td>\n      <td>NaN</td>\n      <td>Value</td>\n      <td>...</td>\n      <td>(32.84057112200048, -86.63186076199969)</td>\n      <td>OWS</td>\n      <td>OWS1</td>\n      <td>Q036</td>\n      <td>VALUE</td>\n      <td>1</td>\n      <td>Age (years)</td>\n      <td>35 - 44</td>\n      <td>AGEYR</td>\n      <td>AGEYR3544</td>\n    </tr>\n  </tbody>\n</table>\n<p>10 rows × 33 columns</p>\n</div>"
     },
     "execution_count": 2,
     "metadata": {},
     "output_type": "execute_result"
    }
   ],
   "source": [
    "# from the dataset unzip the dataset\n",
    "\n",
    "dataset = 'archive.zip'\n",
    "df = pd.read_csv(dataset, compression='zip', header=0, sep=',', quotechar='\"')\n",
    "df.head(10)"
   ],
   "metadata": {
    "collapsed": false,
    "ExecuteTime": {
     "end_time": "2023-12-29T08:42:43.125497200Z",
     "start_time": "2023-12-29T08:42:42.910055500Z"
    }
   },
   "id": "b41a2a7e6ea2c313",
   "execution_count": 2
  },
  {
   "cell_type": "code",
   "outputs": [
    {
     "data": {
      "text/plain": "          YearStart       YearEnd  Data_Value_Unit    Data_Value  \\\ncount  53392.000000  53392.000000              0.0  48346.000000   \nmean    2013.281465   2013.281465              NaN     31.156681   \nstd        1.693300      1.693300              NaN     10.247033   \nmin     2011.000000   2011.000000              NaN      0.900000   \n25%     2012.000000   2012.000000              NaN     24.100000   \n50%     2013.000000   2013.000000              NaN     30.700000   \n75%     2015.000000   2015.000000              NaN     37.000000   \nmax     2016.000000   2016.000000              NaN     77.600000   \n\n       Data_Value_Alt  Low_Confidence_Limit  High_Confidence_Limit   \\\ncount    48346.000000          48346.000000            48346.000000   \nmean        31.156681             26.892227               35.989997   \nstd         10.247033             10.038584               11.205813   \nmin          0.900000              0.300000                3.000000   \n25%         24.100000             20.000000               28.200000   \n50%         30.700000             26.450000               35.600000   \n75%         37.000000             32.900000               42.200000   \nmax         77.600000             69.500000               87.700000   \n\n        Sample_Size    LocationID  \ncount   48346.00000  53392.000000  \nmean     3889.19286     30.282215  \nstd     19829.42129     16.821318  \nmin        50.00000      1.000000  \n25%       566.00000     17.000000  \n50%      1209.00000     30.000000  \n75%      2519.00000     44.000000  \nmax    476876.00000     78.000000  ",
      "text/html": "<div>\n<style scoped>\n    .dataframe tbody tr th:only-of-type {\n        vertical-align: middle;\n    }\n\n    .dataframe tbody tr th {\n        vertical-align: top;\n    }\n\n    .dataframe thead th {\n        text-align: right;\n    }\n</style>\n<table border=\"1\" class=\"dataframe\">\n  <thead>\n    <tr style=\"text-align: right;\">\n      <th></th>\n      <th>YearStart</th>\n      <th>YearEnd</th>\n      <th>Data_Value_Unit</th>\n      <th>Data_Value</th>\n      <th>Data_Value_Alt</th>\n      <th>Low_Confidence_Limit</th>\n      <th>High_Confidence_Limit</th>\n      <th>Sample_Size</th>\n      <th>LocationID</th>\n    </tr>\n  </thead>\n  <tbody>\n    <tr>\n      <th>count</th>\n      <td>53392.000000</td>\n      <td>53392.000000</td>\n      <td>0.0</td>\n      <td>48346.000000</td>\n      <td>48346.000000</td>\n      <td>48346.000000</td>\n      <td>48346.000000</td>\n      <td>48346.00000</td>\n      <td>53392.000000</td>\n    </tr>\n    <tr>\n      <th>mean</th>\n      <td>2013.281465</td>\n      <td>2013.281465</td>\n      <td>NaN</td>\n      <td>31.156681</td>\n      <td>31.156681</td>\n      <td>26.892227</td>\n      <td>35.989997</td>\n      <td>3889.19286</td>\n      <td>30.282215</td>\n    </tr>\n    <tr>\n      <th>std</th>\n      <td>1.693300</td>\n      <td>1.693300</td>\n      <td>NaN</td>\n      <td>10.247033</td>\n      <td>10.247033</td>\n      <td>10.038584</td>\n      <td>11.205813</td>\n      <td>19829.42129</td>\n      <td>16.821318</td>\n    </tr>\n    <tr>\n      <th>min</th>\n      <td>2011.000000</td>\n      <td>2011.000000</td>\n      <td>NaN</td>\n      <td>0.900000</td>\n      <td>0.900000</td>\n      <td>0.300000</td>\n      <td>3.000000</td>\n      <td>50.00000</td>\n      <td>1.000000</td>\n    </tr>\n    <tr>\n      <th>25%</th>\n      <td>2012.000000</td>\n      <td>2012.000000</td>\n      <td>NaN</td>\n      <td>24.100000</td>\n      <td>24.100000</td>\n      <td>20.000000</td>\n      <td>28.200000</td>\n      <td>566.00000</td>\n      <td>17.000000</td>\n    </tr>\n    <tr>\n      <th>50%</th>\n      <td>2013.000000</td>\n      <td>2013.000000</td>\n      <td>NaN</td>\n      <td>30.700000</td>\n      <td>30.700000</td>\n      <td>26.450000</td>\n      <td>35.600000</td>\n      <td>1209.00000</td>\n      <td>30.000000</td>\n    </tr>\n    <tr>\n      <th>75%</th>\n      <td>2015.000000</td>\n      <td>2015.000000</td>\n      <td>NaN</td>\n      <td>37.000000</td>\n      <td>37.000000</td>\n      <td>32.900000</td>\n      <td>42.200000</td>\n      <td>2519.00000</td>\n      <td>44.000000</td>\n    </tr>\n    <tr>\n      <th>max</th>\n      <td>2016.000000</td>\n      <td>2016.000000</td>\n      <td>NaN</td>\n      <td>77.600000</td>\n      <td>77.600000</td>\n      <td>69.500000</td>\n      <td>87.700000</td>\n      <td>476876.00000</td>\n      <td>78.000000</td>\n    </tr>\n  </tbody>\n</table>\n</div>"
     },
     "execution_count": 3,
     "metadata": {},
     "output_type": "execute_result"
    }
   ],
   "source": [
    "df.describe()"
   ],
   "metadata": {
    "collapsed": false,
    "ExecuteTime": {
     "end_time": "2023-12-29T08:42:43.177585700Z",
     "start_time": "2023-12-29T08:42:43.120985100Z"
    }
   },
   "id": "3d6a99f0acbae48b",
   "execution_count": 3
  },
  {
   "cell_type": "markdown",
   "source": [
    "# Data Preprocessing"
   ],
   "metadata": {
    "collapsed": false
   },
   "id": "f21f1e1c9e77c589"
  },
  {
   "cell_type": "code",
   "outputs": [],
   "source": [
    "#creating function to remove outliers by using interquartile function\n",
    "def remove_outliers(df):\n",
    "    for col in df.select_dtypes(include=np.number).columns:\n",
    "        q1 = df[col].quantile(0.25)\n",
    "        q3 = df[col].quantile(0.75)\n",
    "        iqr = q3 - q1\n",
    "        lower_bound = q1 - (2.5 * iqr)\n",
    "        upper_bound = q3 + (2.5 * iqr)\n",
    "        df.drop(df[(df[col] < lower_bound) | (df[col] > upper_bound)].index, inplace=True)\n",
    "        "
   ],
   "metadata": {
    "collapsed": false,
    "ExecuteTime": {
     "end_time": "2023-12-29T08:42:43.178585200Z",
     "start_time": "2023-12-29T08:42:43.152530200Z"
    }
   },
   "id": "1e4b63551887225b",
   "execution_count": 4
  },
  {
   "cell_type": "code",
   "outputs": [
    {
     "data": {
      "text/plain": "YearStart                         0\nYearEnd                           0\nLocationAbbr                      0\nLocationDesc                      0\nDatasource                        0\nClass                             0\nTopic                             0\nQuestion                          0\nData_Value_Unit               53392\nData_Value_Type                   0\nData_Value                     5046\nData_Value_Alt                 5046\nData_Value_Footnote_Symbol    48346\nData_Value_Footnote           48346\nLow_Confidence_Limit           5046\nHigh_Confidence_Limit          5046\nSample_Size                    5046\nTotal                         51485\nAge(years)                    41954\nEducation                     45764\nGender                        49578\nIncome                        40043\nRace/Ethnicity                38136\nGeoLocation                    1008\nClassID                           0\nTopicID                           0\nQuestionID                        0\nDataValueTypeID                   0\nLocationID                        0\nStratificationCategory1           0\nStratification1                   0\nStratificationCategoryId1         0\nStratificationID1                 0\ndtype: int64"
     },
     "execution_count": 5,
     "metadata": {},
     "output_type": "execute_result"
    }
   ],
   "source": [
    "# check for null values\n",
    "df.isnull().sum()"
   ],
   "metadata": {
    "collapsed": false,
    "ExecuteTime": {
     "end_time": "2023-12-29T08:42:43.237680400Z",
     "start_time": "2023-12-29T08:42:43.158047700Z"
    }
   },
   "id": "bff39539e194e093",
   "execution_count": 5
  },
  {
   "cell_type": "code",
   "outputs": [
    {
     "name": "stdout",
     "output_type": "stream",
     "text": [
      "<class 'pandas.core.frame.DataFrame'>\n",
      "RangeIndex: 53392 entries, 0 to 53391\n",
      "Data columns (total 33 columns):\n",
      " #   Column                      Non-Null Count  Dtype  \n",
      "---  ------                      --------------  -----  \n",
      " 0   YearStart                   53392 non-null  int64  \n",
      " 1   YearEnd                     53392 non-null  int64  \n",
      " 2   LocationAbbr                53392 non-null  object \n",
      " 3   LocationDesc                53392 non-null  object \n",
      " 4   Datasource                  53392 non-null  object \n",
      " 5   Class                       53392 non-null  object \n",
      " 6   Topic                       53392 non-null  object \n",
      " 7   Question                    53392 non-null  object \n",
      " 8   Data_Value_Unit             0 non-null      float64\n",
      " 9   Data_Value_Type             53392 non-null  object \n",
      " 10  Data_Value                  48346 non-null  float64\n",
      " 11  Data_Value_Alt              48346 non-null  float64\n",
      " 12  Data_Value_Footnote_Symbol  5046 non-null   object \n",
      " 13  Data_Value_Footnote         5046 non-null   object \n",
      " 14  Low_Confidence_Limit        48346 non-null  float64\n",
      " 15  High_Confidence_Limit       48346 non-null  float64\n",
      " 16  Sample_Size                 48346 non-null  float64\n",
      " 17  Total                       1907 non-null   object \n",
      " 18  Age(years)                  11438 non-null  object \n",
      " 19  Education                   7628 non-null   object \n",
      " 20  Gender                      3814 non-null   object \n",
      " 21  Income                      13349 non-null  object \n",
      " 22  Race/Ethnicity              15256 non-null  object \n",
      " 23  GeoLocation                 52384 non-null  object \n",
      " 24  ClassID                     53392 non-null  object \n",
      " 25  TopicID                     53392 non-null  object \n",
      " 26  QuestionID                  53392 non-null  object \n",
      " 27  DataValueTypeID             53392 non-null  object \n",
      " 28  LocationID                  53392 non-null  int64  \n",
      " 29  StratificationCategory1     53392 non-null  object \n",
      " 30  Stratification1             53392 non-null  object \n",
      " 31  StratificationCategoryId1   53392 non-null  object \n",
      " 32  StratificationID1           53392 non-null  object \n",
      "dtypes: float64(6), int64(3), object(24)\n",
      "memory usage: 13.4+ MB\n"
     ]
    }
   ],
   "source": [
    "df.info()"
   ],
   "metadata": {
    "collapsed": false,
    "ExecuteTime": {
     "end_time": "2023-12-29T08:42:43.288757300Z",
     "start_time": "2023-12-29T08:42:43.208142300Z"
    }
   },
   "id": "b5c04844829955b0",
   "execution_count": 6
  },
  {
   "cell_type": "code",
   "outputs": [
    {
     "data": {
      "text/plain": "array(['Obesity / Weight Status', 'Fruits and Vegetables - Behavior',\n       'Physical Activity - Behavior'], dtype=object)"
     },
     "execution_count": 7,
     "metadata": {},
     "output_type": "execute_result"
    }
   ],
   "source": [
    "#topic unique values\n",
    "df['Topic'].unique()"
   ],
   "metadata": {
    "collapsed": false,
    "ExecuteTime": {
     "end_time": "2023-12-29T08:42:43.327821300Z",
     "start_time": "2023-12-29T08:42:43.252193500Z"
    }
   },
   "id": "9aa5da8fda66cfe2",
   "execution_count": 7
  },
  {
   "cell_type": "code",
   "outputs": [
    {
     "data": {
      "text/plain": "array(['Obesity / Weight Status', 'Fruits and Vegetables',\n       'Physical Activity'], dtype=object)"
     },
     "execution_count": 8,
     "metadata": {},
     "output_type": "execute_result"
    }
   ],
   "source": [
    "# check for unique values in Class\n",
    "df['Class'].unique()"
   ],
   "metadata": {
    "collapsed": false,
    "ExecuteTime": {
     "end_time": "2023-12-29T08:42:43.329821800Z",
     "start_time": "2023-12-29T08:42:43.266223Z"
    }
   },
   "id": "b31c432c8e1517",
   "execution_count": 8
  },
  {
   "cell_type": "code",
   "outputs": [
    {
     "data": {
      "text/plain": "array(['Behavioral Risk Factor Surveillance System'], dtype=object)"
     },
     "execution_count": 9,
     "metadata": {},
     "output_type": "execute_result"
    }
   ],
   "source": [
    "# check for unique values in Datasource\n",
    "df['Datasource'].unique()"
   ],
   "metadata": {
    "collapsed": false,
    "ExecuteTime": {
     "end_time": "2023-12-29T08:42:43.333323700Z",
     "start_time": "2023-12-29T08:42:43.284751800Z"
    }
   },
   "id": "61cb2aa4fd437e93",
   "execution_count": 9
  },
  {
   "cell_type": "code",
   "outputs": [
    {
     "data": {
      "text/plain": "array([nan])"
     },
     "execution_count": 10,
     "metadata": {},
     "output_type": "execute_result"
    }
   ],
   "source": [
    "# check for unique values in Data_Value_Unit\n",
    "df['Data_Value_Unit'].unique()"
   ],
   "metadata": {
    "collapsed": false,
    "ExecuteTime": {
     "end_time": "2023-12-29T08:42:43.338334800Z",
     "start_time": "2023-12-29T08:42:43.305788800Z"
    }
   },
   "id": "3788ffa015922f4f",
   "execution_count": 10
  },
  {
   "cell_type": "code",
   "outputs": [
    {
     "data": {
      "text/plain": "array(['Q036', 'Q037', 'Q018', 'Q019', 'Q046', 'Q043', 'Q044', 'Q045',\n       'Q047'], dtype=object)"
     },
     "execution_count": 11,
     "metadata": {},
     "output_type": "execute_result"
    }
   ],
   "source": [
    "# check for unique values in QuestionID\n",
    "df['QuestionID'].unique()"
   ],
   "metadata": {
    "collapsed": false,
    "ExecuteTime": {
     "end_time": "2023-12-29T08:42:43.390414600Z",
     "start_time": "2023-12-29T08:42:43.320304800Z"
    }
   },
   "id": "e20a468e7cdb8cfd",
   "execution_count": 11
  },
  {
   "cell_type": "code",
   "outputs": [
    {
     "data": {
      "text/plain": "array([nan, '~'], dtype=object)"
     },
     "execution_count": 12,
     "metadata": {},
     "output_type": "execute_result"
    }
   ],
   "source": [
    "# check for unique values in Data_Value_Footnote_Symbol\n",
    "df['Data_Value_Footnote_Symbol'].unique()\n"
   ],
   "metadata": {
    "collapsed": false,
    "ExecuteTime": {
     "end_time": "2023-12-29T08:42:43.391410400Z",
     "start_time": "2023-12-29T08:42:43.340335200Z"
    }
   },
   "id": "939ab0aa5e7cf46",
   "execution_count": 12
  },
  {
   "cell_type": "code",
   "outputs": [
    {
     "data": {
      "text/plain": "array([nan, 'Data not available because sample size is insufficient.',\n       'Data not available because sample size is insufficient.  If data only missing for the confidence interval, the confidence interval was not calculated.'],\n      dtype=object)"
     },
     "execution_count": 13,
     "metadata": {},
     "output_type": "execute_result"
    }
   ],
   "source": [
    "# check for unique values in Data_Value_Footnote\n",
    "df['Data_Value_Footnote'].unique()"
   ],
   "metadata": {
    "collapsed": false,
    "ExecuteTime": {
     "end_time": "2023-12-29T08:42:43.412444400Z",
     "start_time": "2023-12-29T08:42:43.360361200Z"
    }
   },
   "id": "8da66d8498a34e6d",
   "execution_count": 13
  },
  {
   "cell_type": "code",
   "outputs": [
    {
     "data": {
      "text/plain": "array(['OVR', 'GEN', 'EDU', 'AGEYR', 'INC', 'RACE'], dtype=object)"
     },
     "execution_count": 14,
     "metadata": {},
     "output_type": "execute_result"
    }
   ],
   "source": [
    "# check for unique values in StratificationCategoryId1\n",
    "df['StratificationCategoryId1'].unique()    \n",
    "\n"
   ],
   "metadata": {
    "collapsed": false,
    "ExecuteTime": {
     "end_time": "2023-12-29T08:42:43.426478400Z",
     "start_time": "2023-12-29T08:42:43.379897500Z"
    }
   },
   "id": "1cb8d99a1c0a7f96",
   "execution_count": 14
  },
  {
   "cell_type": "code",
   "outputs": [
    {
     "data": {
      "text/plain": "array(['OVERALL', 'MALE', 'FEMALE', 'EDUHS', 'EDUHSGRAD', 'EDUCOTEC',\n       'EDUCOGRAD', 'AGEYR1824', 'AGEYR2534', 'AGEYR3544', 'AGEYR4554',\n       'AGEYR5564', 'AGEYR65PLUS', 'INCLESS15', 'INC1525', 'INC2535',\n       'INC3550', 'INC5075', 'INC75PLUS', 'INCNR', 'RACEWHT', 'RACEBLK',\n       'RACEHIS', 'RACEASN', 'RACEHPI', 'RACENAA', 'RACE2PLUS', 'RACEOTH'],\n      dtype=object)"
     },
     "execution_count": 15,
     "metadata": {},
     "output_type": "execute_result"
    }
   ],
   "source": [
    "# check for unique values in StratificationID1\n",
    "df['StratificationID1'].unique()"
   ],
   "metadata": {
    "collapsed": false,
    "ExecuteTime": {
     "end_time": "2023-12-29T08:42:43.429480400Z",
     "start_time": "2023-12-29T08:42:43.400930600Z"
    }
   },
   "id": "8360b6a8957f79bc",
   "execution_count": 15
  },
  {
   "cell_type": "code",
   "outputs": [],
   "source": [
    "df = df.drop(['Low_Confidence_Limit','High_Confidence_Limit ','YearEnd','Topic','Class','Datasource','Data_Value_Unit','QuestionID','ClassID','TopicID','DataValueTypeID','Data_Value_Type','Data_Value_Footnote_Symbol','Data_Value_Footnote','StratificationCategoryId1','StratificationID1'] , axis=1);"
   ],
   "metadata": {
    "collapsed": false,
    "ExecuteTime": {
     "end_time": "2023-12-29T08:42:43.459022600Z",
     "start_time": "2023-12-29T08:42:43.418961900Z"
    }
   },
   "id": "5dcd91d60f5ebb3d",
   "execution_count": 16
  },
  {
   "cell_type": "code",
   "outputs": [
    {
     "name": "stdout",
     "output_type": "stream",
     "text": [
      "<class 'pandas.core.frame.DataFrame'>\n",
      "RangeIndex: 53392 entries, 0 to 53391\n",
      "Data columns (total 17 columns):\n",
      " #   Column                   Non-Null Count  Dtype  \n",
      "---  ------                   --------------  -----  \n",
      " 0   YearStart                53392 non-null  int64  \n",
      " 1   LocationAbbr             53392 non-null  object \n",
      " 2   LocationDesc             53392 non-null  object \n",
      " 3   Question                 53392 non-null  object \n",
      " 4   Data_Value               48346 non-null  float64\n",
      " 5   Data_Value_Alt           48346 non-null  float64\n",
      " 6   Sample_Size              48346 non-null  float64\n",
      " 7   Total                    1907 non-null   object \n",
      " 8   Age(years)               11438 non-null  object \n",
      " 9   Education                7628 non-null   object \n",
      " 10  Gender                   3814 non-null   object \n",
      " 11  Income                   13349 non-null  object \n",
      " 12  Race/Ethnicity           15256 non-null  object \n",
      " 13  GeoLocation              52384 non-null  object \n",
      " 14  LocationID               53392 non-null  int64  \n",
      " 15  StratificationCategory1  53392 non-null  object \n",
      " 16  Stratification1          53392 non-null  object \n",
      "dtypes: float64(3), int64(2), object(12)\n",
      "memory usage: 6.9+ MB\n"
     ]
    }
   ],
   "source": [
    "df.info()"
   ],
   "metadata": {
    "collapsed": false,
    "ExecuteTime": {
     "end_time": "2023-12-29T08:42:43.478551300Z",
     "start_time": "2023-12-29T08:42:43.436997100Z"
    }
   },
   "id": "293d8b80fd59bdb3",
   "execution_count": 17
  },
  {
   "cell_type": "code",
   "outputs": [
    {
     "data": {
      "text/plain": "   YearStart LocationAbbr LocationDesc  \\\n0       2011           AL      Alabama   \n1       2011           AL      Alabama   \n2       2011           AL      Alabama   \n3       2011           AL      Alabama   \n4       2011           AL      Alabama   \n5       2011           AL      Alabama   \n6       2011           AL      Alabama   \n7       2011           AL      Alabama   \n8       2011           AL      Alabama   \n9       2011           AL      Alabama   \n\n                                            Question  Data_Value  \\\n0  Percent of adults aged 18 years and older who ...        32.0   \n1  Percent of adults aged 18 years and older who ...        32.3   \n2  Percent of adults aged 18 years and older who ...        31.8   \n3  Percent of adults aged 18 years and older who ...        33.6   \n4  Percent of adults aged 18 years and older who ...        32.8   \n5  Percent of adults aged 18 years and older who ...        33.8   \n6  Percent of adults aged 18 years and older who ...        26.4   \n7  Percent of adults aged 18 years and older who ...        16.3   \n8  Percent of adults aged 18 years and older who ...        35.2   \n9  Percent of adults aged 18 years and older who ...        35.5   \n\n   Data_Value_Alt  Sample_Size  Total Age(years)  \\\n0            32.0       7304.0  Total        NaN   \n1            32.3       2581.0    NaN        NaN   \n2            31.8       4723.0    NaN        NaN   \n3            33.6       1153.0    NaN        NaN   \n4            32.8       2402.0    NaN        NaN   \n5            33.8       1925.0    NaN        NaN   \n6            26.4       1812.0    NaN        NaN   \n7            16.3        356.0    NaN    18 - 24   \n8            35.2        598.0    NaN    25 - 34   \n9            35.5        865.0    NaN    35 - 44   \n\n                          Education  Gender Income Race/Ethnicity  \\\n0                               NaN     NaN    NaN            NaN   \n1                               NaN    Male    NaN            NaN   \n2                               NaN  Female    NaN            NaN   \n3             Less than high school     NaN    NaN            NaN   \n4              High school graduate     NaN    NaN            NaN   \n5  Some college or technical school     NaN    NaN            NaN   \n6                  College graduate     NaN    NaN            NaN   \n7                               NaN     NaN    NaN            NaN   \n8                               NaN     NaN    NaN            NaN   \n9                               NaN     NaN    NaN            NaN   \n\n                               GeoLocation  LocationID  \\\n0  (32.84057112200048, -86.63186076199969)           1   \n1  (32.84057112200048, -86.63186076199969)           1   \n2  (32.84057112200048, -86.63186076199969)           1   \n3  (32.84057112200048, -86.63186076199969)           1   \n4  (32.84057112200048, -86.63186076199969)           1   \n5  (32.84057112200048, -86.63186076199969)           1   \n6  (32.84057112200048, -86.63186076199969)           1   \n7  (32.84057112200048, -86.63186076199969)           1   \n8  (32.84057112200048, -86.63186076199969)           1   \n9  (32.84057112200048, -86.63186076199969)           1   \n\n  StratificationCategory1                   Stratification1  \n0                   Total                             Total  \n1                  Gender                              Male  \n2                  Gender                            Female  \n3               Education             Less than high school  \n4               Education              High school graduate  \n5               Education  Some college or technical school  \n6               Education                  College graduate  \n7             Age (years)                           18 - 24  \n8             Age (years)                           25 - 34  \n9             Age (years)                           35 - 44  ",
      "text/html": "<div>\n<style scoped>\n    .dataframe tbody tr th:only-of-type {\n        vertical-align: middle;\n    }\n\n    .dataframe tbody tr th {\n        vertical-align: top;\n    }\n\n    .dataframe thead th {\n        text-align: right;\n    }\n</style>\n<table border=\"1\" class=\"dataframe\">\n  <thead>\n    <tr style=\"text-align: right;\">\n      <th></th>\n      <th>YearStart</th>\n      <th>LocationAbbr</th>\n      <th>LocationDesc</th>\n      <th>Question</th>\n      <th>Data_Value</th>\n      <th>Data_Value_Alt</th>\n      <th>Sample_Size</th>\n      <th>Total</th>\n      <th>Age(years)</th>\n      <th>Education</th>\n      <th>Gender</th>\n      <th>Income</th>\n      <th>Race/Ethnicity</th>\n      <th>GeoLocation</th>\n      <th>LocationID</th>\n      <th>StratificationCategory1</th>\n      <th>Stratification1</th>\n    </tr>\n  </thead>\n  <tbody>\n    <tr>\n      <th>0</th>\n      <td>2011</td>\n      <td>AL</td>\n      <td>Alabama</td>\n      <td>Percent of adults aged 18 years and older who ...</td>\n      <td>32.0</td>\n      <td>32.0</td>\n      <td>7304.0</td>\n      <td>Total</td>\n      <td>NaN</td>\n      <td>NaN</td>\n      <td>NaN</td>\n      <td>NaN</td>\n      <td>NaN</td>\n      <td>(32.84057112200048, -86.63186076199969)</td>\n      <td>1</td>\n      <td>Total</td>\n      <td>Total</td>\n    </tr>\n    <tr>\n      <th>1</th>\n      <td>2011</td>\n      <td>AL</td>\n      <td>Alabama</td>\n      <td>Percent of adults aged 18 years and older who ...</td>\n      <td>32.3</td>\n      <td>32.3</td>\n      <td>2581.0</td>\n      <td>NaN</td>\n      <td>NaN</td>\n      <td>NaN</td>\n      <td>Male</td>\n      <td>NaN</td>\n      <td>NaN</td>\n      <td>(32.84057112200048, -86.63186076199969)</td>\n      <td>1</td>\n      <td>Gender</td>\n      <td>Male</td>\n    </tr>\n    <tr>\n      <th>2</th>\n      <td>2011</td>\n      <td>AL</td>\n      <td>Alabama</td>\n      <td>Percent of adults aged 18 years and older who ...</td>\n      <td>31.8</td>\n      <td>31.8</td>\n      <td>4723.0</td>\n      <td>NaN</td>\n      <td>NaN</td>\n      <td>NaN</td>\n      <td>Female</td>\n      <td>NaN</td>\n      <td>NaN</td>\n      <td>(32.84057112200048, -86.63186076199969)</td>\n      <td>1</td>\n      <td>Gender</td>\n      <td>Female</td>\n    </tr>\n    <tr>\n      <th>3</th>\n      <td>2011</td>\n      <td>AL</td>\n      <td>Alabama</td>\n      <td>Percent of adults aged 18 years and older who ...</td>\n      <td>33.6</td>\n      <td>33.6</td>\n      <td>1153.0</td>\n      <td>NaN</td>\n      <td>NaN</td>\n      <td>Less than high school</td>\n      <td>NaN</td>\n      <td>NaN</td>\n      <td>NaN</td>\n      <td>(32.84057112200048, -86.63186076199969)</td>\n      <td>1</td>\n      <td>Education</td>\n      <td>Less than high school</td>\n    </tr>\n    <tr>\n      <th>4</th>\n      <td>2011</td>\n      <td>AL</td>\n      <td>Alabama</td>\n      <td>Percent of adults aged 18 years and older who ...</td>\n      <td>32.8</td>\n      <td>32.8</td>\n      <td>2402.0</td>\n      <td>NaN</td>\n      <td>NaN</td>\n      <td>High school graduate</td>\n      <td>NaN</td>\n      <td>NaN</td>\n      <td>NaN</td>\n      <td>(32.84057112200048, -86.63186076199969)</td>\n      <td>1</td>\n      <td>Education</td>\n      <td>High school graduate</td>\n    </tr>\n    <tr>\n      <th>5</th>\n      <td>2011</td>\n      <td>AL</td>\n      <td>Alabama</td>\n      <td>Percent of adults aged 18 years and older who ...</td>\n      <td>33.8</td>\n      <td>33.8</td>\n      <td>1925.0</td>\n      <td>NaN</td>\n      <td>NaN</td>\n      <td>Some college or technical school</td>\n      <td>NaN</td>\n      <td>NaN</td>\n      <td>NaN</td>\n      <td>(32.84057112200048, -86.63186076199969)</td>\n      <td>1</td>\n      <td>Education</td>\n      <td>Some college or technical school</td>\n    </tr>\n    <tr>\n      <th>6</th>\n      <td>2011</td>\n      <td>AL</td>\n      <td>Alabama</td>\n      <td>Percent of adults aged 18 years and older who ...</td>\n      <td>26.4</td>\n      <td>26.4</td>\n      <td>1812.0</td>\n      <td>NaN</td>\n      <td>NaN</td>\n      <td>College graduate</td>\n      <td>NaN</td>\n      <td>NaN</td>\n      <td>NaN</td>\n      <td>(32.84057112200048, -86.63186076199969)</td>\n      <td>1</td>\n      <td>Education</td>\n      <td>College graduate</td>\n    </tr>\n    <tr>\n      <th>7</th>\n      <td>2011</td>\n      <td>AL</td>\n      <td>Alabama</td>\n      <td>Percent of adults aged 18 years and older who ...</td>\n      <td>16.3</td>\n      <td>16.3</td>\n      <td>356.0</td>\n      <td>NaN</td>\n      <td>18 - 24</td>\n      <td>NaN</td>\n      <td>NaN</td>\n      <td>NaN</td>\n      <td>NaN</td>\n      <td>(32.84057112200048, -86.63186076199969)</td>\n      <td>1</td>\n      <td>Age (years)</td>\n      <td>18 - 24</td>\n    </tr>\n    <tr>\n      <th>8</th>\n      <td>2011</td>\n      <td>AL</td>\n      <td>Alabama</td>\n      <td>Percent of adults aged 18 years and older who ...</td>\n      <td>35.2</td>\n      <td>35.2</td>\n      <td>598.0</td>\n      <td>NaN</td>\n      <td>25 - 34</td>\n      <td>NaN</td>\n      <td>NaN</td>\n      <td>NaN</td>\n      <td>NaN</td>\n      <td>(32.84057112200048, -86.63186076199969)</td>\n      <td>1</td>\n      <td>Age (years)</td>\n      <td>25 - 34</td>\n    </tr>\n    <tr>\n      <th>9</th>\n      <td>2011</td>\n      <td>AL</td>\n      <td>Alabama</td>\n      <td>Percent of adults aged 18 years and older who ...</td>\n      <td>35.5</td>\n      <td>35.5</td>\n      <td>865.0</td>\n      <td>NaN</td>\n      <td>35 - 44</td>\n      <td>NaN</td>\n      <td>NaN</td>\n      <td>NaN</td>\n      <td>NaN</td>\n      <td>(32.84057112200048, -86.63186076199969)</td>\n      <td>1</td>\n      <td>Age (years)</td>\n      <td>35 - 44</td>\n    </tr>\n  </tbody>\n</table>\n</div>"
     },
     "execution_count": 18,
     "metadata": {},
     "output_type": "execute_result"
    }
   ],
   "source": [
    "df.head(10)"
   ],
   "metadata": {
    "collapsed": false,
    "ExecuteTime": {
     "end_time": "2023-12-29T08:42:43.521631900Z",
     "start_time": "2023-12-29T08:42:43.469539600Z"
    }
   },
   "id": "a4ed2a2fd40693e6",
   "execution_count": 18
  },
  {
   "cell_type": "code",
   "outputs": [
    {
     "data": {
      "text/plain": "array(['Total', 'Gender', 'Education', 'Age (years)', 'Income',\n       'Race/Ethnicity'], dtype=object)"
     },
     "execution_count": 19,
     "metadata": {},
     "output_type": "execute_result"
    }
   ],
   "source": [
    "# Find Unique values for StratificationCategory1\n",
    "df['StratificationCategory1'].unique()\n"
   ],
   "metadata": {
    "collapsed": false,
    "ExecuteTime": {
     "end_time": "2023-12-29T08:42:43.554710300Z",
     "start_time": "2023-12-29T08:42:43.492072Z"
    }
   },
   "id": "8e94010d116838c6",
   "execution_count": 19
  },
  {
   "cell_type": "code",
   "outputs": [
    {
     "data": {
      "text/plain": "array(['Total', 'Male', 'Female', 'Less than high school',\n       'High school graduate', 'Some college or technical school',\n       'College graduate', '18 - 24', '25 - 34', '35 - 44', '45 - 54',\n       '55 - 64', '65 or older', 'Less than $15,000', '$15,000 - $24,999',\n       '$25,000 - $34,999', '$35,000 - $49,999', '$50,000 - $74,999',\n       '$75,000 or greater', 'Data not reported', 'Non-Hispanic White',\n       'Non-Hispanic Black', 'Hispanic', 'Asian',\n       'Hawaiian/Pacific Islander', 'American Indian/Alaska Native',\n       '2 or more races', 'Other'], dtype=object)"
     },
     "execution_count": 20,
     "metadata": {},
     "output_type": "execute_result"
    }
   ],
   "source": [
    "# Find Unique values for Stratification1\n",
    "df['Stratification1'].unique()\n"
   ],
   "metadata": {
    "collapsed": false,
    "ExecuteTime": {
     "end_time": "2023-12-29T08:42:43.557715700Z",
     "start_time": "2023-12-29T08:42:43.513619500Z"
    }
   },
   "id": "2258fbe61cef1b73",
   "execution_count": 20
  },
  {
   "cell_type": "code",
   "outputs": [],
   "source": [
    "# create dataframe based on gender and educationm and income\n",
    "\n",
    "DataFrame_Gender = df[(df['Stratification1'] == 'Male') | (df['Stratification1']== 'Female')]\n",
    "DataFrame_Education = df[(df['StratificationCategory1']=='Education')]\n",
    "DataFrame_Income = df[(df['StratificationCategory1']=='Income')]"
   ],
   "metadata": {
    "collapsed": false,
    "ExecuteTime": {
     "end_time": "2023-12-29T08:42:43.684430300Z",
     "start_time": "2023-12-29T08:42:43.530152700Z"
    }
   },
   "id": "c43e73bcd49b219f",
   "execution_count": 21
  },
  {
   "cell_type": "code",
   "outputs": [],
   "source": [
    "# reset index for all the dataframes\n",
    "\n",
    "DataFrame_Gender = DataFrame_Gender.reset_index(drop=True)\n",
    "DataFrame_Education = DataFrame_Education.reset_index(drop=True)\n",
    "DataFrame_Income = DataFrame_Income.reset_index(drop=True)"
   ],
   "metadata": {
    "collapsed": false,
    "ExecuteTime": {
     "end_time": "2023-12-29T08:42:43.687437400Z",
     "start_time": "2023-12-29T08:42:43.560715900Z"
    }
   },
   "id": "cb10ee54d2501ed",
   "execution_count": 22
  },
  {
   "cell_type": "code",
   "outputs": [
    {
     "data": {
      "text/plain": "   YearStart LocationAbbr LocationDesc  \\\n0       2011           AL      Alabama   \n1       2011           AL      Alabama   \n2       2011           AL      Alabama   \n3       2011           AL      Alabama   \n4       2011           AL      Alabama   \n5       2011           AL      Alabama   \n6       2011           AL      Alabama   \n7       2011           AL      Alabama   \n8       2011           AL      Alabama   \n9       2011           AL      Alabama   \n\n                                            Question  Data_Value  \\\n0  Percent of adults aged 18 years and older who ...        33.6   \n1  Percent of adults aged 18 years and older who ...        32.8   \n2  Percent of adults aged 18 years and older who ...        33.8   \n3  Percent of adults aged 18 years and older who ...        26.4   \n4  Percent of adults aged 18 years and older who ...        33.2   \n5  Percent of adults aged 18 years and older who ...        34.1   \n6  Percent of adults aged 18 years and older who ...        35.0   \n7  Percent of adults aged 18 years and older who ...        36.8   \n8  Percent of adults who report consuming fruit l...        36.1   \n9  Percent of adults who report consuming fruit l...        41.2   \n\n   Data_Value_Alt  Sample_Size Total Age(years)  \\\n0            33.6       1153.0   NaN        NaN   \n1            32.8       2402.0   NaN        NaN   \n2            33.8       1925.0   NaN        NaN   \n3            26.4       1812.0   NaN        NaN   \n4            33.2       1153.0   NaN        NaN   \n5            34.1       2402.0   NaN        NaN   \n6            35.0       1925.0   NaN        NaN   \n7            36.8       1812.0   NaN        NaN   \n8            36.1       1844.0   NaN        NaN   \n9            41.2       1912.0   NaN        NaN   \n\n                          Education Gender Income Race/Ethnicity  \\\n0             Less than high school    NaN    NaN            NaN   \n1              High school graduate    NaN    NaN            NaN   \n2  Some college or technical school    NaN    NaN            NaN   \n3                  College graduate    NaN    NaN            NaN   \n4             Less than high school    NaN    NaN            NaN   \n5              High school graduate    NaN    NaN            NaN   \n6  Some college or technical school    NaN    NaN            NaN   \n7                  College graduate    NaN    NaN            NaN   \n8                  College graduate    NaN    NaN            NaN   \n9  Some college or technical school    NaN    NaN            NaN   \n\n                               GeoLocation  LocationID  \\\n0  (32.84057112200048, -86.63186076199969)           1   \n1  (32.84057112200048, -86.63186076199969)           1   \n2  (32.84057112200048, -86.63186076199969)           1   \n3  (32.84057112200048, -86.63186076199969)           1   \n4  (32.84057112200048, -86.63186076199969)           1   \n5  (32.84057112200048, -86.63186076199969)           1   \n6  (32.84057112200048, -86.63186076199969)           1   \n7  (32.84057112200048, -86.63186076199969)           1   \n8  (32.84057112200048, -86.63186076199969)           1   \n9  (32.84057112200048, -86.63186076199969)           1   \n\n  StratificationCategory1                   Stratification1  \n0               Education             Less than high school  \n1               Education              High school graduate  \n2               Education  Some college or technical school  \n3               Education                  College graduate  \n4               Education             Less than high school  \n5               Education              High school graduate  \n6               Education  Some college or technical school  \n7               Education                  College graduate  \n8               Education                  College graduate  \n9               Education  Some college or technical school  ",
      "text/html": "<div>\n<style scoped>\n    .dataframe tbody tr th:only-of-type {\n        vertical-align: middle;\n    }\n\n    .dataframe tbody tr th {\n        vertical-align: top;\n    }\n\n    .dataframe thead th {\n        text-align: right;\n    }\n</style>\n<table border=\"1\" class=\"dataframe\">\n  <thead>\n    <tr style=\"text-align: right;\">\n      <th></th>\n      <th>YearStart</th>\n      <th>LocationAbbr</th>\n      <th>LocationDesc</th>\n      <th>Question</th>\n      <th>Data_Value</th>\n      <th>Data_Value_Alt</th>\n      <th>Sample_Size</th>\n      <th>Total</th>\n      <th>Age(years)</th>\n      <th>Education</th>\n      <th>Gender</th>\n      <th>Income</th>\n      <th>Race/Ethnicity</th>\n      <th>GeoLocation</th>\n      <th>LocationID</th>\n      <th>StratificationCategory1</th>\n      <th>Stratification1</th>\n    </tr>\n  </thead>\n  <tbody>\n    <tr>\n      <th>0</th>\n      <td>2011</td>\n      <td>AL</td>\n      <td>Alabama</td>\n      <td>Percent of adults aged 18 years and older who ...</td>\n      <td>33.6</td>\n      <td>33.6</td>\n      <td>1153.0</td>\n      <td>NaN</td>\n      <td>NaN</td>\n      <td>Less than high school</td>\n      <td>NaN</td>\n      <td>NaN</td>\n      <td>NaN</td>\n      <td>(32.84057112200048, -86.63186076199969)</td>\n      <td>1</td>\n      <td>Education</td>\n      <td>Less than high school</td>\n    </tr>\n    <tr>\n      <th>1</th>\n      <td>2011</td>\n      <td>AL</td>\n      <td>Alabama</td>\n      <td>Percent of adults aged 18 years and older who ...</td>\n      <td>32.8</td>\n      <td>32.8</td>\n      <td>2402.0</td>\n      <td>NaN</td>\n      <td>NaN</td>\n      <td>High school graduate</td>\n      <td>NaN</td>\n      <td>NaN</td>\n      <td>NaN</td>\n      <td>(32.84057112200048, -86.63186076199969)</td>\n      <td>1</td>\n      <td>Education</td>\n      <td>High school graduate</td>\n    </tr>\n    <tr>\n      <th>2</th>\n      <td>2011</td>\n      <td>AL</td>\n      <td>Alabama</td>\n      <td>Percent of adults aged 18 years and older who ...</td>\n      <td>33.8</td>\n      <td>33.8</td>\n      <td>1925.0</td>\n      <td>NaN</td>\n      <td>NaN</td>\n      <td>Some college or technical school</td>\n      <td>NaN</td>\n      <td>NaN</td>\n      <td>NaN</td>\n      <td>(32.84057112200048, -86.63186076199969)</td>\n      <td>1</td>\n      <td>Education</td>\n      <td>Some college or technical school</td>\n    </tr>\n    <tr>\n      <th>3</th>\n      <td>2011</td>\n      <td>AL</td>\n      <td>Alabama</td>\n      <td>Percent of adults aged 18 years and older who ...</td>\n      <td>26.4</td>\n      <td>26.4</td>\n      <td>1812.0</td>\n      <td>NaN</td>\n      <td>NaN</td>\n      <td>College graduate</td>\n      <td>NaN</td>\n      <td>NaN</td>\n      <td>NaN</td>\n      <td>(32.84057112200048, -86.63186076199969)</td>\n      <td>1</td>\n      <td>Education</td>\n      <td>College graduate</td>\n    </tr>\n    <tr>\n      <th>4</th>\n      <td>2011</td>\n      <td>AL</td>\n      <td>Alabama</td>\n      <td>Percent of adults aged 18 years and older who ...</td>\n      <td>33.2</td>\n      <td>33.2</td>\n      <td>1153.0</td>\n      <td>NaN</td>\n      <td>NaN</td>\n      <td>Less than high school</td>\n      <td>NaN</td>\n      <td>NaN</td>\n      <td>NaN</td>\n      <td>(32.84057112200048, -86.63186076199969)</td>\n      <td>1</td>\n      <td>Education</td>\n      <td>Less than high school</td>\n    </tr>\n    <tr>\n      <th>5</th>\n      <td>2011</td>\n      <td>AL</td>\n      <td>Alabama</td>\n      <td>Percent of adults aged 18 years and older who ...</td>\n      <td>34.1</td>\n      <td>34.1</td>\n      <td>2402.0</td>\n      <td>NaN</td>\n      <td>NaN</td>\n      <td>High school graduate</td>\n      <td>NaN</td>\n      <td>NaN</td>\n      <td>NaN</td>\n      <td>(32.84057112200048, -86.63186076199969)</td>\n      <td>1</td>\n      <td>Education</td>\n      <td>High school graduate</td>\n    </tr>\n    <tr>\n      <th>6</th>\n      <td>2011</td>\n      <td>AL</td>\n      <td>Alabama</td>\n      <td>Percent of adults aged 18 years and older who ...</td>\n      <td>35.0</td>\n      <td>35.0</td>\n      <td>1925.0</td>\n      <td>NaN</td>\n      <td>NaN</td>\n      <td>Some college or technical school</td>\n      <td>NaN</td>\n      <td>NaN</td>\n      <td>NaN</td>\n      <td>(32.84057112200048, -86.63186076199969)</td>\n      <td>1</td>\n      <td>Education</td>\n      <td>Some college or technical school</td>\n    </tr>\n    <tr>\n      <th>7</th>\n      <td>2011</td>\n      <td>AL</td>\n      <td>Alabama</td>\n      <td>Percent of adults aged 18 years and older who ...</td>\n      <td>36.8</td>\n      <td>36.8</td>\n      <td>1812.0</td>\n      <td>NaN</td>\n      <td>NaN</td>\n      <td>College graduate</td>\n      <td>NaN</td>\n      <td>NaN</td>\n      <td>NaN</td>\n      <td>(32.84057112200048, -86.63186076199969)</td>\n      <td>1</td>\n      <td>Education</td>\n      <td>College graduate</td>\n    </tr>\n    <tr>\n      <th>8</th>\n      <td>2011</td>\n      <td>AL</td>\n      <td>Alabama</td>\n      <td>Percent of adults who report consuming fruit l...</td>\n      <td>36.1</td>\n      <td>36.1</td>\n      <td>1844.0</td>\n      <td>NaN</td>\n      <td>NaN</td>\n      <td>College graduate</td>\n      <td>NaN</td>\n      <td>NaN</td>\n      <td>NaN</td>\n      <td>(32.84057112200048, -86.63186076199969)</td>\n      <td>1</td>\n      <td>Education</td>\n      <td>College graduate</td>\n    </tr>\n    <tr>\n      <th>9</th>\n      <td>2011</td>\n      <td>AL</td>\n      <td>Alabama</td>\n      <td>Percent of adults who report consuming fruit l...</td>\n      <td>41.2</td>\n      <td>41.2</td>\n      <td>1912.0</td>\n      <td>NaN</td>\n      <td>NaN</td>\n      <td>Some college or technical school</td>\n      <td>NaN</td>\n      <td>NaN</td>\n      <td>NaN</td>\n      <td>(32.84057112200048, -86.63186076199969)</td>\n      <td>1</td>\n      <td>Education</td>\n      <td>Some college or technical school</td>\n    </tr>\n  </tbody>\n</table>\n</div>"
     },
     "execution_count": 23,
     "metadata": {},
     "output_type": "execute_result"
    }
   ],
   "source": [
    "DataFrame_Education.head(10)"
   ],
   "metadata": {
    "collapsed": false,
    "ExecuteTime": {
     "end_time": "2023-12-29T08:42:43.709462800Z",
     "start_time": "2023-12-29T08:42:43.571239800Z"
    }
   },
   "id": "68ecb907b28ecbb5",
   "execution_count": 23
  },
  {
   "cell_type": "code",
   "outputs": [
    {
     "data": {
      "text/plain": "   YearStart LocationAbbr LocationDesc  \\\n0       2011           AL      Alabama   \n1       2011           AL      Alabama   \n2       2011           AL      Alabama   \n3       2011           AL      Alabama   \n4       2011           AL      Alabama   \n5       2011           AL      Alabama   \n6       2011           AL      Alabama   \n7       2011           AL      Alabama   \n8       2011           AL      Alabama   \n9       2011           AL      Alabama   \n\n                                            Question  Data_Value  \\\n0  Percent of adults aged 18 years and older who ...        38.5   \n1  Percent of adults aged 18 years and older who ...        34.8   \n2  Percent of adults aged 18 years and older who ...        35.8   \n3  Percent of adults aged 18 years and older who ...        32.3   \n4  Percent of adults aged 18 years and older who ...        34.1   \n5  Percent of adults aged 18 years and older who ...        28.8   \n6  Percent of adults aged 18 years and older who ...        23.8   \n7  Percent of adults aged 18 years and older who ...        28.4   \n8  Percent of adults aged 18 years and older who ...        31.9   \n9  Percent of adults aged 18 years and older who ...        35.7   \n\n   Data_Value_Alt  Sample_Size Total Age(years) Education Gender  \\\n0            38.5       1112.0   NaN        NaN       NaN    NaN   \n1            34.8       1367.0   NaN        NaN       NaN    NaN   \n2            35.8        757.0   NaN        NaN       NaN    NaN   \n3            32.3        861.0   NaN        NaN       NaN    NaN   \n4            34.1        785.0   NaN        NaN       NaN    NaN   \n5            28.8       1125.0   NaN        NaN       NaN    NaN   \n6            23.8       1297.0   NaN        NaN       NaN    NaN   \n7            28.4       1112.0   NaN        NaN       NaN    NaN   \n8            31.9       1367.0   NaN        NaN       NaN    NaN   \n9            35.7        757.0   NaN        NaN       NaN    NaN   \n\n               Income Race/Ethnicity                              GeoLocation  \\\n0   Less than $15,000            NaN  (32.84057112200048, -86.63186076199969)   \n1   $15,000 - $24,999            NaN  (32.84057112200048, -86.63186076199969)   \n2   $25,000 - $34,999            NaN  (32.84057112200048, -86.63186076199969)   \n3   $35,000 - $49,999            NaN  (32.84057112200048, -86.63186076199969)   \n4   $50,000 - $74,999            NaN  (32.84057112200048, -86.63186076199969)   \n5  $75,000 or greater            NaN  (32.84057112200048, -86.63186076199969)   \n6   Data not reported            NaN  (32.84057112200048, -86.63186076199969)   \n7   Less than $15,000            NaN  (32.84057112200048, -86.63186076199969)   \n8   $15,000 - $24,999            NaN  (32.84057112200048, -86.63186076199969)   \n9   $25,000 - $34,999            NaN  (32.84057112200048, -86.63186076199969)   \n\n   LocationID StratificationCategory1     Stratification1  \n0           1                  Income   Less than $15,000  \n1           1                  Income   $15,000 - $24,999  \n2           1                  Income   $25,000 - $34,999  \n3           1                  Income   $35,000 - $49,999  \n4           1                  Income   $50,000 - $74,999  \n5           1                  Income  $75,000 or greater  \n6           1                  Income   Data not reported  \n7           1                  Income   Less than $15,000  \n8           1                  Income   $15,000 - $24,999  \n9           1                  Income   $25,000 - $34,999  ",
      "text/html": "<div>\n<style scoped>\n    .dataframe tbody tr th:only-of-type {\n        vertical-align: middle;\n    }\n\n    .dataframe tbody tr th {\n        vertical-align: top;\n    }\n\n    .dataframe thead th {\n        text-align: right;\n    }\n</style>\n<table border=\"1\" class=\"dataframe\">\n  <thead>\n    <tr style=\"text-align: right;\">\n      <th></th>\n      <th>YearStart</th>\n      <th>LocationAbbr</th>\n      <th>LocationDesc</th>\n      <th>Question</th>\n      <th>Data_Value</th>\n      <th>Data_Value_Alt</th>\n      <th>Sample_Size</th>\n      <th>Total</th>\n      <th>Age(years)</th>\n      <th>Education</th>\n      <th>Gender</th>\n      <th>Income</th>\n      <th>Race/Ethnicity</th>\n      <th>GeoLocation</th>\n      <th>LocationID</th>\n      <th>StratificationCategory1</th>\n      <th>Stratification1</th>\n    </tr>\n  </thead>\n  <tbody>\n    <tr>\n      <th>0</th>\n      <td>2011</td>\n      <td>AL</td>\n      <td>Alabama</td>\n      <td>Percent of adults aged 18 years and older who ...</td>\n      <td>38.5</td>\n      <td>38.5</td>\n      <td>1112.0</td>\n      <td>NaN</td>\n      <td>NaN</td>\n      <td>NaN</td>\n      <td>NaN</td>\n      <td>Less than $15,000</td>\n      <td>NaN</td>\n      <td>(32.84057112200048, -86.63186076199969)</td>\n      <td>1</td>\n      <td>Income</td>\n      <td>Less than $15,000</td>\n    </tr>\n    <tr>\n      <th>1</th>\n      <td>2011</td>\n      <td>AL</td>\n      <td>Alabama</td>\n      <td>Percent of adults aged 18 years and older who ...</td>\n      <td>34.8</td>\n      <td>34.8</td>\n      <td>1367.0</td>\n      <td>NaN</td>\n      <td>NaN</td>\n      <td>NaN</td>\n      <td>NaN</td>\n      <td>$15,000 - $24,999</td>\n      <td>NaN</td>\n      <td>(32.84057112200048, -86.63186076199969)</td>\n      <td>1</td>\n      <td>Income</td>\n      <td>$15,000 - $24,999</td>\n    </tr>\n    <tr>\n      <th>2</th>\n      <td>2011</td>\n      <td>AL</td>\n      <td>Alabama</td>\n      <td>Percent of adults aged 18 years and older who ...</td>\n      <td>35.8</td>\n      <td>35.8</td>\n      <td>757.0</td>\n      <td>NaN</td>\n      <td>NaN</td>\n      <td>NaN</td>\n      <td>NaN</td>\n      <td>$25,000 - $34,999</td>\n      <td>NaN</td>\n      <td>(32.84057112200048, -86.63186076199969)</td>\n      <td>1</td>\n      <td>Income</td>\n      <td>$25,000 - $34,999</td>\n    </tr>\n    <tr>\n      <th>3</th>\n      <td>2011</td>\n      <td>AL</td>\n      <td>Alabama</td>\n      <td>Percent of adults aged 18 years and older who ...</td>\n      <td>32.3</td>\n      <td>32.3</td>\n      <td>861.0</td>\n      <td>NaN</td>\n      <td>NaN</td>\n      <td>NaN</td>\n      <td>NaN</td>\n      <td>$35,000 - $49,999</td>\n      <td>NaN</td>\n      <td>(32.84057112200048, -86.63186076199969)</td>\n      <td>1</td>\n      <td>Income</td>\n      <td>$35,000 - $49,999</td>\n    </tr>\n    <tr>\n      <th>4</th>\n      <td>2011</td>\n      <td>AL</td>\n      <td>Alabama</td>\n      <td>Percent of adults aged 18 years and older who ...</td>\n      <td>34.1</td>\n      <td>34.1</td>\n      <td>785.0</td>\n      <td>NaN</td>\n      <td>NaN</td>\n      <td>NaN</td>\n      <td>NaN</td>\n      <td>$50,000 - $74,999</td>\n      <td>NaN</td>\n      <td>(32.84057112200048, -86.63186076199969)</td>\n      <td>1</td>\n      <td>Income</td>\n      <td>$50,000 - $74,999</td>\n    </tr>\n    <tr>\n      <th>5</th>\n      <td>2011</td>\n      <td>AL</td>\n      <td>Alabama</td>\n      <td>Percent of adults aged 18 years and older who ...</td>\n      <td>28.8</td>\n      <td>28.8</td>\n      <td>1125.0</td>\n      <td>NaN</td>\n      <td>NaN</td>\n      <td>NaN</td>\n      <td>NaN</td>\n      <td>$75,000 or greater</td>\n      <td>NaN</td>\n      <td>(32.84057112200048, -86.63186076199969)</td>\n      <td>1</td>\n      <td>Income</td>\n      <td>$75,000 or greater</td>\n    </tr>\n    <tr>\n      <th>6</th>\n      <td>2011</td>\n      <td>AL</td>\n      <td>Alabama</td>\n      <td>Percent of adults aged 18 years and older who ...</td>\n      <td>23.8</td>\n      <td>23.8</td>\n      <td>1297.0</td>\n      <td>NaN</td>\n      <td>NaN</td>\n      <td>NaN</td>\n      <td>NaN</td>\n      <td>Data not reported</td>\n      <td>NaN</td>\n      <td>(32.84057112200048, -86.63186076199969)</td>\n      <td>1</td>\n      <td>Income</td>\n      <td>Data not reported</td>\n    </tr>\n    <tr>\n      <th>7</th>\n      <td>2011</td>\n      <td>AL</td>\n      <td>Alabama</td>\n      <td>Percent of adults aged 18 years and older who ...</td>\n      <td>28.4</td>\n      <td>28.4</td>\n      <td>1112.0</td>\n      <td>NaN</td>\n      <td>NaN</td>\n      <td>NaN</td>\n      <td>NaN</td>\n      <td>Less than $15,000</td>\n      <td>NaN</td>\n      <td>(32.84057112200048, -86.63186076199969)</td>\n      <td>1</td>\n      <td>Income</td>\n      <td>Less than $15,000</td>\n    </tr>\n    <tr>\n      <th>8</th>\n      <td>2011</td>\n      <td>AL</td>\n      <td>Alabama</td>\n      <td>Percent of adults aged 18 years and older who ...</td>\n      <td>31.9</td>\n      <td>31.9</td>\n      <td>1367.0</td>\n      <td>NaN</td>\n      <td>NaN</td>\n      <td>NaN</td>\n      <td>NaN</td>\n      <td>$15,000 - $24,999</td>\n      <td>NaN</td>\n      <td>(32.84057112200048, -86.63186076199969)</td>\n      <td>1</td>\n      <td>Income</td>\n      <td>$15,000 - $24,999</td>\n    </tr>\n    <tr>\n      <th>9</th>\n      <td>2011</td>\n      <td>AL</td>\n      <td>Alabama</td>\n      <td>Percent of adults aged 18 years and older who ...</td>\n      <td>35.7</td>\n      <td>35.7</td>\n      <td>757.0</td>\n      <td>NaN</td>\n      <td>NaN</td>\n      <td>NaN</td>\n      <td>NaN</td>\n      <td>$25,000 - $34,999</td>\n      <td>NaN</td>\n      <td>(32.84057112200048, -86.63186076199969)</td>\n      <td>1</td>\n      <td>Income</td>\n      <td>$25,000 - $34,999</td>\n    </tr>\n  </tbody>\n</table>\n</div>"
     },
     "execution_count": 24,
     "metadata": {},
     "output_type": "execute_result"
    }
   ],
   "source": [
    "DataFrame_Income.head(10)"
   ],
   "metadata": {
    "collapsed": false,
    "ExecuteTime": {
     "end_time": "2023-12-29T08:42:43.710462400Z",
     "start_time": "2023-12-29T08:42:43.596300800Z"
    }
   },
   "id": "52d1954a0db7ede2",
   "execution_count": 24
  },
  {
   "cell_type": "code",
   "outputs": [
    {
     "data": {
      "text/plain": "array(['Alabama', 'National', 'Alaska', 'Arizona', 'Arkansas',\n       'California', 'Connecticut', 'Colorado', 'Delaware', 'Florida',\n       'District of Columbia', 'Georgia', 'Guam', 'Hawaii', 'Idaho',\n       'Illinois', 'Indiana', 'Iowa', 'Kansas', 'Kentucky', 'Louisiana',\n       'Maine', 'Maryland', 'Massachusetts', 'Michigan', 'Minnesota',\n       'Mississippi', 'Missouri', 'Montana', 'Nebraska', 'Nevada',\n       'New Hampshire', 'New Jersey', 'New Mexico', 'New York',\n       'North Carolina', 'North Dakota', 'Ohio', 'Oklahoma', 'Oregon',\n       'Pennsylvania', 'Puerto Rico', 'Rhode Island', 'South Carolina',\n       'South Dakota', 'Tennessee', 'Texas', 'Utah', 'Vermont',\n       'Virginia', 'West Virginia', 'Washington', 'Wisconsin', 'Wyoming',\n       'Virgin Islands'], dtype=object)"
     },
     "execution_count": 25,
     "metadata": {},
     "output_type": "execute_result"
    }
   ],
   "source": [
    "# find unique values for LocationDesc\n",
    "df['LocationDesc'].unique()"
   ],
   "metadata": {
    "collapsed": false,
    "ExecuteTime": {
     "end_time": "2023-12-29T08:42:43.711462700Z",
     "start_time": "2023-12-29T08:42:43.621325800Z"
    }
   },
   "id": "38a70a1f84c42bf6",
   "execution_count": 25
  },
  {
   "cell_type": "code",
   "outputs": [
    {
     "data": {
      "text/plain": "array(['Percent of adults aged 18 years and older who have obesity',\n       'Percent of adults aged 18 years and older who have an overweight classification',\n       'Percent of adults who report consuming fruit less than one time daily',\n       'Percent of adults who report consuming vegetables less than one time daily',\n       'Percent of adults who engage in muscle-strengthening activities on 2 or more days a week',\n       'Percent of adults who achieve at least 150 minutes a week of moderate-intensity aerobic physical activity or 75 minutes a week of vigorous-intensity aerobic activity (or an equivalent combination)',\n       'Percent of adults who achieve at least 150 minutes a week of moderate-intensity aerobic physical activity or 75 minutes a week of vigorous-intensity aerobic physical activity and engage in muscle-strengthening activities on 2 or more days a week',\n       'Percent of adults who achieve at least 300 minutes a week of moderate-intensity aerobic physical activity or 150 minutes a week of vigorous-intensity aerobic activity (or an equivalent combination)',\n       'Percent of adults who engage in no leisure-time physical activity'],\n      dtype=object)"
     },
     "execution_count": 26,
     "metadata": {},
     "output_type": "execute_result"
    }
   ],
   "source": [
    "# find unique value for Question\n",
    "df['Question'].unique()"
   ],
   "metadata": {
    "collapsed": false,
    "ExecuteTime": {
     "end_time": "2023-12-29T08:42:43.713970Z",
     "start_time": "2023-12-29T08:42:43.641350800Z"
    }
   },
   "id": "d56005a6502f991a",
   "execution_count": 26
  },
  {
   "cell_type": "code",
   "outputs": [],
   "source": [
    "Q = ['Percent of adults aged 18 years and older who have obesity','Percent of adults aged 18 years and older who have an overweight classification','Percent of adults who engage in no leisure-time physical activity']\n",
    "\n",
    "DataFrame_Gender = DataFrame_Gender[DataFrame_Gender['Question'].apply(lambda x: x in Q)]\n",
    "\n",
    "QD = {\n",
    "    'Percent of adults aged 18 years and older who have obesity' : 0,\n",
    "    'Percent of adults aged 18 years and older who have an overweight classification' : 1,\n",
    "    'Percent of adults who engage in no leisure-time physical activity' : 2\n",
    "}\n",
    "\n",
    "locationDict = {\n",
    "    'Alabama' : 0,\n",
    "    'National' : 1,\n",
    "    'Alaska' : 2,\n",
    "    'Arizona' : 3,\n",
    "    'Arkansas' : 4,\n",
    "    'California' : 5,\n",
    "    'Connecticut' : 6,\n",
    "    'Colorado' : 7,\n",
    "    'Delaware' : 8,\n",
    "    'Florida' : 9,\n",
    "    'District of Columbia' : 10,\n",
    "    'Georgia' : 11,\n",
    "    'Guam' : 12,\n",
    "    'Hawaii' : 13,\n",
    "    'Idaho' : 14,\n",
    "    'Illinois' : 15,\n",
    "    'Indiana' : 16,\n",
    "    'Iowa' : 17,\n",
    "    'Kansas' : 18,\n",
    "    'Kentucky' : 19,\n",
    "    'Louisiana' : 20,\n",
    "    'Maine' : 21,\n",
    "    'Maryland' : 22,\n",
    "    'Massachusetts' : 23,\n",
    "    'Michigan' : 24,\n",
    "    'Minnesota' : 25,\n",
    "    'Mississippi' : 26,\n",
    "    'Missouri' : 27,\n",
    "    'Montana' : 28,\n",
    "    'Nebraska' : 29,\n",
    "    'Nevada' : 30,\n",
    "    'New Hampshire' : 31,\n",
    "    'New Jersey' : 32,\n",
    "    'New Mexico' : 33,\n",
    "    'New York' : 34,\n",
    "    'North Carolina' : 35,\n",
    "    'North Dakota' : 36,\n",
    "    'Ohio' : 37,\n",
    "    'Oklahoma' : 38,\n",
    "    'Oregon' : 39,\n",
    "    'Pennsylvania' : 40,\n",
    "    'Puerto Rico' : 41,\n",
    "    'Rhode Island' : 42,\n",
    "    'South Carolina' : 43,\n",
    "    'South Dakota' : 44,\n",
    "    'Tennessee' : 45,\n",
    "    'Texas' : 46,\n",
    "    'Utah' : 47,\n",
    "    'Vermont' : 48,\n",
    "    'Virginia' : 49,\n",
    "    'West Virginia' : 50,\n",
    "    'Washington' : 51,\n",
    "    'Wisconsin' : 52,\n",
    "    'Wyoming' : 53,\n",
    "    'Virgin Islands' : 54\n",
    "}\n",
    "\n"
   ],
   "metadata": {
    "collapsed": false,
    "ExecuteTime": {
     "end_time": "2023-12-29T08:42:43.724492Z",
     "start_time": "2023-12-29T08:42:43.674407600Z"
    }
   },
   "id": "a5dafdfe194dc598",
   "execution_count": 27
  },
  {
   "cell_type": "code",
   "outputs": [],
   "source": [
    "# First of all we will work with Dataframe_Gender\n",
    "\n",
    "# Removing Null Columns\n",
    "DataFrame_Gender = DataFrame_Gender.drop(['StratificationCategory1','Stratification1','Race/Ethnicity','Income','Education','Age(years)','Total','LocationAbbr','GeoLocation'],axis=1)\n"
   ],
   "metadata": {
    "collapsed": false,
    "ExecuteTime": {
     "end_time": "2023-12-29T08:42:43.727497200Z",
     "start_time": "2023-12-29T08:42:43.683424800Z"
    }
   },
   "id": "645d79a2c6c8892",
   "execution_count": 28
  },
  {
   "cell_type": "code",
   "outputs": [
    {
     "data": {
      "text/plain": "    YearStart LocationDesc                                           Question  \\\n0        2011      Alabama  Percent of adults aged 18 years and older who ...   \n1        2011      Alabama  Percent of adults aged 18 years and older who ...   \n2        2011      Alabama  Percent of adults aged 18 years and older who ...   \n3        2011      Alabama  Percent of adults aged 18 years and older who ...   \n14       2012     National  Percent of adults aged 18 years and older who ...   \n17       2011      Alabama  Percent of adults who engage in no leisure-tim...   \n18       2011      Alabama  Percent of adults who engage in no leisure-tim...   \n19       2012      Alabama  Percent of adults aged 18 years and older who ...   \n20       2012      Alabama  Percent of adults aged 18 years and older who ...   \n21       2012      Alabama  Percent of adults who engage in no leisure-tim...   \n\n    Data_Value  Data_Value_Alt  Sample_Size  Gender  LocationID  \n0         32.3            32.3       2581.0    Male           1  \n1         31.8            31.8       4723.0  Female           1  \n2         39.0            39.0       2581.0    Male           1  \n3         30.5            30.5       4723.0  Female           1  \n14        27.4            27.4     257190.0  Female          59  \n17        29.6            29.6       2531.0    Male           1  \n18        35.3            35.3       4939.0  Female           1  \n19        31.8            31.8       3016.0    Male           1  \n20        34.1            34.1       5635.0  Female           1  \n21        30.4            30.4       5958.0  Female           1  ",
      "text/html": "<div>\n<style scoped>\n    .dataframe tbody tr th:only-of-type {\n        vertical-align: middle;\n    }\n\n    .dataframe tbody tr th {\n        vertical-align: top;\n    }\n\n    .dataframe thead th {\n        text-align: right;\n    }\n</style>\n<table border=\"1\" class=\"dataframe\">\n  <thead>\n    <tr style=\"text-align: right;\">\n      <th></th>\n      <th>YearStart</th>\n      <th>LocationDesc</th>\n      <th>Question</th>\n      <th>Data_Value</th>\n      <th>Data_Value_Alt</th>\n      <th>Sample_Size</th>\n      <th>Gender</th>\n      <th>LocationID</th>\n    </tr>\n  </thead>\n  <tbody>\n    <tr>\n      <th>0</th>\n      <td>2011</td>\n      <td>Alabama</td>\n      <td>Percent of adults aged 18 years and older who ...</td>\n      <td>32.3</td>\n      <td>32.3</td>\n      <td>2581.0</td>\n      <td>Male</td>\n      <td>1</td>\n    </tr>\n    <tr>\n      <th>1</th>\n      <td>2011</td>\n      <td>Alabama</td>\n      <td>Percent of adults aged 18 years and older who ...</td>\n      <td>31.8</td>\n      <td>31.8</td>\n      <td>4723.0</td>\n      <td>Female</td>\n      <td>1</td>\n    </tr>\n    <tr>\n      <th>2</th>\n      <td>2011</td>\n      <td>Alabama</td>\n      <td>Percent of adults aged 18 years and older who ...</td>\n      <td>39.0</td>\n      <td>39.0</td>\n      <td>2581.0</td>\n      <td>Male</td>\n      <td>1</td>\n    </tr>\n    <tr>\n      <th>3</th>\n      <td>2011</td>\n      <td>Alabama</td>\n      <td>Percent of adults aged 18 years and older who ...</td>\n      <td>30.5</td>\n      <td>30.5</td>\n      <td>4723.0</td>\n      <td>Female</td>\n      <td>1</td>\n    </tr>\n    <tr>\n      <th>14</th>\n      <td>2012</td>\n      <td>National</td>\n      <td>Percent of adults aged 18 years and older who ...</td>\n      <td>27.4</td>\n      <td>27.4</td>\n      <td>257190.0</td>\n      <td>Female</td>\n      <td>59</td>\n    </tr>\n    <tr>\n      <th>17</th>\n      <td>2011</td>\n      <td>Alabama</td>\n      <td>Percent of adults who engage in no leisure-tim...</td>\n      <td>29.6</td>\n      <td>29.6</td>\n      <td>2531.0</td>\n      <td>Male</td>\n      <td>1</td>\n    </tr>\n    <tr>\n      <th>18</th>\n      <td>2011</td>\n      <td>Alabama</td>\n      <td>Percent of adults who engage in no leisure-tim...</td>\n      <td>35.3</td>\n      <td>35.3</td>\n      <td>4939.0</td>\n      <td>Female</td>\n      <td>1</td>\n    </tr>\n    <tr>\n      <th>19</th>\n      <td>2012</td>\n      <td>Alabama</td>\n      <td>Percent of adults aged 18 years and older who ...</td>\n      <td>31.8</td>\n      <td>31.8</td>\n      <td>3016.0</td>\n      <td>Male</td>\n      <td>1</td>\n    </tr>\n    <tr>\n      <th>20</th>\n      <td>2012</td>\n      <td>Alabama</td>\n      <td>Percent of adults aged 18 years and older who ...</td>\n      <td>34.1</td>\n      <td>34.1</td>\n      <td>5635.0</td>\n      <td>Female</td>\n      <td>1</td>\n    </tr>\n    <tr>\n      <th>21</th>\n      <td>2012</td>\n      <td>Alabama</td>\n      <td>Percent of adults who engage in no leisure-tim...</td>\n      <td>30.4</td>\n      <td>30.4</td>\n      <td>5958.0</td>\n      <td>Female</td>\n      <td>1</td>\n    </tr>\n  </tbody>\n</table>\n</div>"
     },
     "execution_count": 29,
     "metadata": {},
     "output_type": "execute_result"
    }
   ],
   "source": [
    "DataFrame_Gender.head(10)"
   ],
   "metadata": {
    "collapsed": false,
    "ExecuteTime": {
     "end_time": "2023-12-29T08:42:43.776591700Z",
     "start_time": "2023-12-29T08:42:43.698950400Z"
    }
   },
   "id": "3709c7eb948ca3b6",
   "execution_count": 29
  },
  {
   "cell_type": "markdown",
   "source": [],
   "metadata": {
    "collapsed": false
   },
   "id": "ac5876a890612dfe"
  },
  {
   "cell_type": "code",
   "outputs": [
    {
     "data": {
      "text/plain": "(1918, 8)"
     },
     "execution_count": 30,
     "metadata": {},
     "output_type": "execute_result"
    }
   ],
   "source": [
    "DataFrame_Gender.shape"
   ],
   "metadata": {
    "collapsed": false,
    "ExecuteTime": {
     "end_time": "2023-12-29T08:42:43.780597Z",
     "start_time": "2023-12-29T08:42:43.721980900Z"
    }
   },
   "id": "1c23a0814be07a40",
   "execution_count": 30
  },
  {
   "cell_type": "code",
   "outputs": [
    {
     "data": {
      "text/plain": "      YearStart    LocationDesc  \\\n0          2011         Alabama   \n1          2011         Alabama   \n2          2011         Alabama   \n3          2011         Alabama   \n14         2012        National   \n...         ...             ...   \n3809       2016            Guam   \n3810       2016     Puerto Rico   \n3811       2016     Puerto Rico   \n3812       2016  Virgin Islands   \n3813       2016  Virgin Islands   \n\n                                               Question  Data_Value  \\\n0     Percent of adults aged 18 years and older who ...        32.3   \n1     Percent of adults aged 18 years and older who ...        31.8   \n2     Percent of adults aged 18 years and older who ...        39.0   \n3     Percent of adults aged 18 years and older who ...        30.5   \n14    Percent of adults aged 18 years and older who ...        27.4   \n...                                                 ...         ...   \n3809  Percent of adults who engage in no leisure-tim...        34.5   \n3810  Percent of adults who engage in no leisure-tim...        34.5   \n3811  Percent of adults who engage in no leisure-tim...        48.1   \n3812  Percent of adults who engage in no leisure-tim...        23.5   \n3813  Percent of adults who engage in no leisure-tim...        28.3   \n\n      Data_Value_Alt  Sample_Size  Gender  LocationID  \\\n0               32.3       2581.0       1           1   \n1               31.8       4723.0       0           1   \n2               39.0       2581.0       1           1   \n3               30.5       4723.0       0           1   \n14              27.4     257190.0       0          59   \n...              ...          ...     ...         ...   \n3809            34.5        877.0       0          66   \n3810            34.5       2160.0       1          72   \n3811            48.1       3630.0       0          72   \n3812            23.5        483.0       1          78   \n3813            28.3        782.0       0          78   \n\n      Percent of adults aged 18 years and older who have an overweight classification  \\\n0                                                     0                                 \n1                                                     0                                 \n2                                                     1                                 \n3                                                     1                                 \n14                                                    0                                 \n...                                                 ...                                 \n3809                                                  0                                 \n3810                                                  0                                 \n3811                                                  0                                 \n3812                                                  0                                 \n3813                                                  0                                 \n\n      Percent of adults aged 18 years and older who have obesity  ...  \\\n0                                                     1           ...   \n1                                                     1           ...   \n2                                                     0           ...   \n3                                                     0           ...   \n14                                                    1           ...   \n...                                                 ...           ...   \n3809                                                  0           ...   \n3810                                                  0           ...   \n3811                                                  0           ...   \n3812                                                  0           ...   \n3813                                                  0           ...   \n\n      Tennessee  Texas  Utah  Vermont  Virgin Islands  Virginia  Washington  \\\n0             0      0     0        0               0         0           0   \n1             0      0     0        0               0         0           0   \n2             0      0     0        0               0         0           0   \n3             0      0     0        0               0         0           0   \n14            0      0     0        0               0         0           0   \n...         ...    ...   ...      ...             ...       ...         ...   \n3809          0      0     0        0               0         0           0   \n3810          0      0     0        0               0         0           0   \n3811          0      0     0        0               0         0           0   \n3812          0      0     0        0               1         0           0   \n3813          0      0     0        0               1         0           0   \n\n      West Virginia  Wisconsin  Wyoming  \n0                 0          0        0  \n1                 0          0        0  \n2                 0          0        0  \n3                 0          0        0  \n14                0          0        0  \n...             ...        ...      ...  \n3809              0          0        0  \n3810              0          0        0  \n3811              0          0        0  \n3812              0          0        0  \n3813              0          0        0  \n\n[1918 rows x 66 columns]",
      "text/html": "<div>\n<style scoped>\n    .dataframe tbody tr th:only-of-type {\n        vertical-align: middle;\n    }\n\n    .dataframe tbody tr th {\n        vertical-align: top;\n    }\n\n    .dataframe thead th {\n        text-align: right;\n    }\n</style>\n<table border=\"1\" class=\"dataframe\">\n  <thead>\n    <tr style=\"text-align: right;\">\n      <th></th>\n      <th>YearStart</th>\n      <th>LocationDesc</th>\n      <th>Question</th>\n      <th>Data_Value</th>\n      <th>Data_Value_Alt</th>\n      <th>Sample_Size</th>\n      <th>Gender</th>\n      <th>LocationID</th>\n      <th>Percent of adults aged 18 years and older who have an overweight classification</th>\n      <th>Percent of adults aged 18 years and older who have obesity</th>\n      <th>...</th>\n      <th>Tennessee</th>\n      <th>Texas</th>\n      <th>Utah</th>\n      <th>Vermont</th>\n      <th>Virgin Islands</th>\n      <th>Virginia</th>\n      <th>Washington</th>\n      <th>West Virginia</th>\n      <th>Wisconsin</th>\n      <th>Wyoming</th>\n    </tr>\n  </thead>\n  <tbody>\n    <tr>\n      <th>0</th>\n      <td>2011</td>\n      <td>Alabama</td>\n      <td>Percent of adults aged 18 years and older who ...</td>\n      <td>32.3</td>\n      <td>32.3</td>\n      <td>2581.0</td>\n      <td>1</td>\n      <td>1</td>\n      <td>0</td>\n      <td>1</td>\n      <td>...</td>\n      <td>0</td>\n      <td>0</td>\n      <td>0</td>\n      <td>0</td>\n      <td>0</td>\n      <td>0</td>\n      <td>0</td>\n      <td>0</td>\n      <td>0</td>\n      <td>0</td>\n    </tr>\n    <tr>\n      <th>1</th>\n      <td>2011</td>\n      <td>Alabama</td>\n      <td>Percent of adults aged 18 years and older who ...</td>\n      <td>31.8</td>\n      <td>31.8</td>\n      <td>4723.0</td>\n      <td>0</td>\n      <td>1</td>\n      <td>0</td>\n      <td>1</td>\n      <td>...</td>\n      <td>0</td>\n      <td>0</td>\n      <td>0</td>\n      <td>0</td>\n      <td>0</td>\n      <td>0</td>\n      <td>0</td>\n      <td>0</td>\n      <td>0</td>\n      <td>0</td>\n    </tr>\n    <tr>\n      <th>2</th>\n      <td>2011</td>\n      <td>Alabama</td>\n      <td>Percent of adults aged 18 years and older who ...</td>\n      <td>39.0</td>\n      <td>39.0</td>\n      <td>2581.0</td>\n      <td>1</td>\n      <td>1</td>\n      <td>1</td>\n      <td>0</td>\n      <td>...</td>\n      <td>0</td>\n      <td>0</td>\n      <td>0</td>\n      <td>0</td>\n      <td>0</td>\n      <td>0</td>\n      <td>0</td>\n      <td>0</td>\n      <td>0</td>\n      <td>0</td>\n    </tr>\n    <tr>\n      <th>3</th>\n      <td>2011</td>\n      <td>Alabama</td>\n      <td>Percent of adults aged 18 years and older who ...</td>\n      <td>30.5</td>\n      <td>30.5</td>\n      <td>4723.0</td>\n      <td>0</td>\n      <td>1</td>\n      <td>1</td>\n      <td>0</td>\n      <td>...</td>\n      <td>0</td>\n      <td>0</td>\n      <td>0</td>\n      <td>0</td>\n      <td>0</td>\n      <td>0</td>\n      <td>0</td>\n      <td>0</td>\n      <td>0</td>\n      <td>0</td>\n    </tr>\n    <tr>\n      <th>14</th>\n      <td>2012</td>\n      <td>National</td>\n      <td>Percent of adults aged 18 years and older who ...</td>\n      <td>27.4</td>\n      <td>27.4</td>\n      <td>257190.0</td>\n      <td>0</td>\n      <td>59</td>\n      <td>0</td>\n      <td>1</td>\n      <td>...</td>\n      <td>0</td>\n      <td>0</td>\n      <td>0</td>\n      <td>0</td>\n      <td>0</td>\n      <td>0</td>\n      <td>0</td>\n      <td>0</td>\n      <td>0</td>\n      <td>0</td>\n    </tr>\n    <tr>\n      <th>...</th>\n      <td>...</td>\n      <td>...</td>\n      <td>...</td>\n      <td>...</td>\n      <td>...</td>\n      <td>...</td>\n      <td>...</td>\n      <td>...</td>\n      <td>...</td>\n      <td>...</td>\n      <td>...</td>\n      <td>...</td>\n      <td>...</td>\n      <td>...</td>\n      <td>...</td>\n      <td>...</td>\n      <td>...</td>\n      <td>...</td>\n      <td>...</td>\n      <td>...</td>\n      <td>...</td>\n    </tr>\n    <tr>\n      <th>3809</th>\n      <td>2016</td>\n      <td>Guam</td>\n      <td>Percent of adults who engage in no leisure-tim...</td>\n      <td>34.5</td>\n      <td>34.5</td>\n      <td>877.0</td>\n      <td>0</td>\n      <td>66</td>\n      <td>0</td>\n      <td>0</td>\n      <td>...</td>\n      <td>0</td>\n      <td>0</td>\n      <td>0</td>\n      <td>0</td>\n      <td>0</td>\n      <td>0</td>\n      <td>0</td>\n      <td>0</td>\n      <td>0</td>\n      <td>0</td>\n    </tr>\n    <tr>\n      <th>3810</th>\n      <td>2016</td>\n      <td>Puerto Rico</td>\n      <td>Percent of adults who engage in no leisure-tim...</td>\n      <td>34.5</td>\n      <td>34.5</td>\n      <td>2160.0</td>\n      <td>1</td>\n      <td>72</td>\n      <td>0</td>\n      <td>0</td>\n      <td>...</td>\n      <td>0</td>\n      <td>0</td>\n      <td>0</td>\n      <td>0</td>\n      <td>0</td>\n      <td>0</td>\n      <td>0</td>\n      <td>0</td>\n      <td>0</td>\n      <td>0</td>\n    </tr>\n    <tr>\n      <th>3811</th>\n      <td>2016</td>\n      <td>Puerto Rico</td>\n      <td>Percent of adults who engage in no leisure-tim...</td>\n      <td>48.1</td>\n      <td>48.1</td>\n      <td>3630.0</td>\n      <td>0</td>\n      <td>72</td>\n      <td>0</td>\n      <td>0</td>\n      <td>...</td>\n      <td>0</td>\n      <td>0</td>\n      <td>0</td>\n      <td>0</td>\n      <td>0</td>\n      <td>0</td>\n      <td>0</td>\n      <td>0</td>\n      <td>0</td>\n      <td>0</td>\n    </tr>\n    <tr>\n      <th>3812</th>\n      <td>2016</td>\n      <td>Virgin Islands</td>\n      <td>Percent of adults who engage in no leisure-tim...</td>\n      <td>23.5</td>\n      <td>23.5</td>\n      <td>483.0</td>\n      <td>1</td>\n      <td>78</td>\n      <td>0</td>\n      <td>0</td>\n      <td>...</td>\n      <td>0</td>\n      <td>0</td>\n      <td>0</td>\n      <td>0</td>\n      <td>1</td>\n      <td>0</td>\n      <td>0</td>\n      <td>0</td>\n      <td>0</td>\n      <td>0</td>\n    </tr>\n    <tr>\n      <th>3813</th>\n      <td>2016</td>\n      <td>Virgin Islands</td>\n      <td>Percent of adults who engage in no leisure-tim...</td>\n      <td>28.3</td>\n      <td>28.3</td>\n      <td>782.0</td>\n      <td>0</td>\n      <td>78</td>\n      <td>0</td>\n      <td>0</td>\n      <td>...</td>\n      <td>0</td>\n      <td>0</td>\n      <td>0</td>\n      <td>0</td>\n      <td>1</td>\n      <td>0</td>\n      <td>0</td>\n      <td>0</td>\n      <td>0</td>\n      <td>0</td>\n    </tr>\n  </tbody>\n</table>\n<p>1918 rows × 66 columns</p>\n</div>"
     },
     "execution_count": 31,
     "metadata": {},
     "output_type": "execute_result"
    }
   ],
   "source": [
    "# Encode the categorical data\n",
    "labelencoder = LabelEncoder()\n",
    "\n",
    "# Male = 1\n",
    "# Female = 0\n",
    "\n",
    "DataFrame_Gender['Gender'] = labelencoder.fit_transform(DataFrame_Gender['Gender'])\n",
    "\n",
    "\n",
    "dummy = pd.get_dummies(DataFrame_Gender['Question'] ,dtype=int)\n",
    "DataFrame_Gender =  pd.concat([DataFrame_Gender,dummy],axis=1)\n",
    "del dummy\n",
    "dummyL = pd.get_dummies(DataFrame_Gender['LocationDesc'],dtype=int)\n",
    "dummyL\n",
    "DataFrame_Gender = pd.concat([DataFrame_Gender,dummyL],axis=1)\n",
    "del dummyL\n",
    "\n",
    "DataFrame_Gender"
   ],
   "metadata": {
    "collapsed": false,
    "ExecuteTime": {
     "end_time": "2023-12-29T08:42:43.826173Z",
     "start_time": "2023-12-29T08:42:43.742016800Z"
    }
   },
   "id": "7c90790ce9f4ac7d",
   "execution_count": 31
  },
  {
   "cell_type": "code",
   "outputs": [
    {
     "data": {
      "text/plain": "      YearStart  Data_Value  Sample_Size  Gender  LocationID  \\\n0          2011        32.3       2581.0       1           1   \n1          2011        31.8       4723.0       0           1   \n2          2011        39.0       2581.0       1           1   \n3          2011        30.5       4723.0       0           1   \n14         2012        27.4     257190.0       0          59   \n...         ...         ...          ...     ...         ...   \n3809       2016        34.5        877.0       0          66   \n3810       2016        34.5       2160.0       1          72   \n3811       2016        48.1       3630.0       0          72   \n3812       2016        23.5        483.0       1          78   \n3813       2016        28.3        782.0       0          78   \n\n      Percent of adults aged 18 years and older who have an overweight classification  \\\n0                                                     0                                 \n1                                                     0                                 \n2                                                     1                                 \n3                                                     1                                 \n14                                                    0                                 \n...                                                 ...                                 \n3809                                                  0                                 \n3810                                                  0                                 \n3811                                                  0                                 \n3812                                                  0                                 \n3813                                                  0                                 \n\n      Percent of adults aged 18 years and older who have obesity  \\\n0                                                     1            \n1                                                     1            \n2                                                     0            \n3                                                     0            \n14                                                    1            \n...                                                 ...            \n3809                                                  0            \n3810                                                  0            \n3811                                                  0            \n3812                                                  0            \n3813                                                  0            \n\n      Percent of adults who engage in no leisure-time physical activity  \\\n0                                                     0                   \n1                                                     0                   \n2                                                     0                   \n3                                                     0                   \n14                                                    0                   \n...                                                 ...                   \n3809                                                  1                   \n3810                                                  1                   \n3811                                                  1                   \n3812                                                  1                   \n3813                                                  1                   \n\n      Alabama  Alaska  ...  Tennessee  Texas  Utah  Vermont  Virgin Islands  \\\n0           1       0  ...          0      0     0        0               0   \n1           1       0  ...          0      0     0        0               0   \n2           1       0  ...          0      0     0        0               0   \n3           1       0  ...          0      0     0        0               0   \n14          0       0  ...          0      0     0        0               0   \n...       ...     ...  ...        ...    ...   ...      ...             ...   \n3809        0       0  ...          0      0     0        0               0   \n3810        0       0  ...          0      0     0        0               0   \n3811        0       0  ...          0      0     0        0               0   \n3812        0       0  ...          0      0     0        0               1   \n3813        0       0  ...          0      0     0        0               1   \n\n      Virginia  Washington  West Virginia  Wisconsin  Wyoming  \n0            0           0              0          0        0  \n1            0           0              0          0        0  \n2            0           0              0          0        0  \n3            0           0              0          0        0  \n14           0           0              0          0        0  \n...        ...         ...            ...        ...      ...  \n3809         0           0              0          0        0  \n3810         0           0              0          0        0  \n3811         0           0              0          0        0  \n3812         0           0              0          0        0  \n3813         0           0              0          0        0  \n\n[1918 rows x 63 columns]",
      "text/html": "<div>\n<style scoped>\n    .dataframe tbody tr th:only-of-type {\n        vertical-align: middle;\n    }\n\n    .dataframe tbody tr th {\n        vertical-align: top;\n    }\n\n    .dataframe thead th {\n        text-align: right;\n    }\n</style>\n<table border=\"1\" class=\"dataframe\">\n  <thead>\n    <tr style=\"text-align: right;\">\n      <th></th>\n      <th>YearStart</th>\n      <th>Data_Value</th>\n      <th>Sample_Size</th>\n      <th>Gender</th>\n      <th>LocationID</th>\n      <th>Percent of adults aged 18 years and older who have an overweight classification</th>\n      <th>Percent of adults aged 18 years and older who have obesity</th>\n      <th>Percent of adults who engage in no leisure-time physical activity</th>\n      <th>Alabama</th>\n      <th>Alaska</th>\n      <th>...</th>\n      <th>Tennessee</th>\n      <th>Texas</th>\n      <th>Utah</th>\n      <th>Vermont</th>\n      <th>Virgin Islands</th>\n      <th>Virginia</th>\n      <th>Washington</th>\n      <th>West Virginia</th>\n      <th>Wisconsin</th>\n      <th>Wyoming</th>\n    </tr>\n  </thead>\n  <tbody>\n    <tr>\n      <th>0</th>\n      <td>2011</td>\n      <td>32.3</td>\n      <td>2581.0</td>\n      <td>1</td>\n      <td>1</td>\n      <td>0</td>\n      <td>1</td>\n      <td>0</td>\n      <td>1</td>\n      <td>0</td>\n      <td>...</td>\n      <td>0</td>\n      <td>0</td>\n      <td>0</td>\n      <td>0</td>\n      <td>0</td>\n      <td>0</td>\n      <td>0</td>\n      <td>0</td>\n      <td>0</td>\n      <td>0</td>\n    </tr>\n    <tr>\n      <th>1</th>\n      <td>2011</td>\n      <td>31.8</td>\n      <td>4723.0</td>\n      <td>0</td>\n      <td>1</td>\n      <td>0</td>\n      <td>1</td>\n      <td>0</td>\n      <td>1</td>\n      <td>0</td>\n      <td>...</td>\n      <td>0</td>\n      <td>0</td>\n      <td>0</td>\n      <td>0</td>\n      <td>0</td>\n      <td>0</td>\n      <td>0</td>\n      <td>0</td>\n      <td>0</td>\n      <td>0</td>\n    </tr>\n    <tr>\n      <th>2</th>\n      <td>2011</td>\n      <td>39.0</td>\n      <td>2581.0</td>\n      <td>1</td>\n      <td>1</td>\n      <td>1</td>\n      <td>0</td>\n      <td>0</td>\n      <td>1</td>\n      <td>0</td>\n      <td>...</td>\n      <td>0</td>\n      <td>0</td>\n      <td>0</td>\n      <td>0</td>\n      <td>0</td>\n      <td>0</td>\n      <td>0</td>\n      <td>0</td>\n      <td>0</td>\n      <td>0</td>\n    </tr>\n    <tr>\n      <th>3</th>\n      <td>2011</td>\n      <td>30.5</td>\n      <td>4723.0</td>\n      <td>0</td>\n      <td>1</td>\n      <td>1</td>\n      <td>0</td>\n      <td>0</td>\n      <td>1</td>\n      <td>0</td>\n      <td>...</td>\n      <td>0</td>\n      <td>0</td>\n      <td>0</td>\n      <td>0</td>\n      <td>0</td>\n      <td>0</td>\n      <td>0</td>\n      <td>0</td>\n      <td>0</td>\n      <td>0</td>\n    </tr>\n    <tr>\n      <th>14</th>\n      <td>2012</td>\n      <td>27.4</td>\n      <td>257190.0</td>\n      <td>0</td>\n      <td>59</td>\n      <td>0</td>\n      <td>1</td>\n      <td>0</td>\n      <td>0</td>\n      <td>0</td>\n      <td>...</td>\n      <td>0</td>\n      <td>0</td>\n      <td>0</td>\n      <td>0</td>\n      <td>0</td>\n      <td>0</td>\n      <td>0</td>\n      <td>0</td>\n      <td>0</td>\n      <td>0</td>\n    </tr>\n    <tr>\n      <th>...</th>\n      <td>...</td>\n      <td>...</td>\n      <td>...</td>\n      <td>...</td>\n      <td>...</td>\n      <td>...</td>\n      <td>...</td>\n      <td>...</td>\n      <td>...</td>\n      <td>...</td>\n      <td>...</td>\n      <td>...</td>\n      <td>...</td>\n      <td>...</td>\n      <td>...</td>\n      <td>...</td>\n      <td>...</td>\n      <td>...</td>\n      <td>...</td>\n      <td>...</td>\n      <td>...</td>\n    </tr>\n    <tr>\n      <th>3809</th>\n      <td>2016</td>\n      <td>34.5</td>\n      <td>877.0</td>\n      <td>0</td>\n      <td>66</td>\n      <td>0</td>\n      <td>0</td>\n      <td>1</td>\n      <td>0</td>\n      <td>0</td>\n      <td>...</td>\n      <td>0</td>\n      <td>0</td>\n      <td>0</td>\n      <td>0</td>\n      <td>0</td>\n      <td>0</td>\n      <td>0</td>\n      <td>0</td>\n      <td>0</td>\n      <td>0</td>\n    </tr>\n    <tr>\n      <th>3810</th>\n      <td>2016</td>\n      <td>34.5</td>\n      <td>2160.0</td>\n      <td>1</td>\n      <td>72</td>\n      <td>0</td>\n      <td>0</td>\n      <td>1</td>\n      <td>0</td>\n      <td>0</td>\n      <td>...</td>\n      <td>0</td>\n      <td>0</td>\n      <td>0</td>\n      <td>0</td>\n      <td>0</td>\n      <td>0</td>\n      <td>0</td>\n      <td>0</td>\n      <td>0</td>\n      <td>0</td>\n    </tr>\n    <tr>\n      <th>3811</th>\n      <td>2016</td>\n      <td>48.1</td>\n      <td>3630.0</td>\n      <td>0</td>\n      <td>72</td>\n      <td>0</td>\n      <td>0</td>\n      <td>1</td>\n      <td>0</td>\n      <td>0</td>\n      <td>...</td>\n      <td>0</td>\n      <td>0</td>\n      <td>0</td>\n      <td>0</td>\n      <td>0</td>\n      <td>0</td>\n      <td>0</td>\n      <td>0</td>\n      <td>0</td>\n      <td>0</td>\n    </tr>\n    <tr>\n      <th>3812</th>\n      <td>2016</td>\n      <td>23.5</td>\n      <td>483.0</td>\n      <td>1</td>\n      <td>78</td>\n      <td>0</td>\n      <td>0</td>\n      <td>1</td>\n      <td>0</td>\n      <td>0</td>\n      <td>...</td>\n      <td>0</td>\n      <td>0</td>\n      <td>0</td>\n      <td>0</td>\n      <td>1</td>\n      <td>0</td>\n      <td>0</td>\n      <td>0</td>\n      <td>0</td>\n      <td>0</td>\n    </tr>\n    <tr>\n      <th>3813</th>\n      <td>2016</td>\n      <td>28.3</td>\n      <td>782.0</td>\n      <td>0</td>\n      <td>78</td>\n      <td>0</td>\n      <td>0</td>\n      <td>1</td>\n      <td>0</td>\n      <td>0</td>\n      <td>...</td>\n      <td>0</td>\n      <td>0</td>\n      <td>0</td>\n      <td>0</td>\n      <td>1</td>\n      <td>0</td>\n      <td>0</td>\n      <td>0</td>\n      <td>0</td>\n      <td>0</td>\n    </tr>\n  </tbody>\n</table>\n<p>1918 rows × 63 columns</p>\n</div>"
     },
     "execution_count": 32,
     "metadata": {},
     "output_type": "execute_result"
    }
   ],
   "source": [
    "DataFrame_Gender.drop(['Question','LocationDesc','Data_Value_Alt'],axis=1,inplace=True)\n",
    "DataFrame_Gender"
   ],
   "metadata": {
    "collapsed": false,
    "ExecuteTime": {
     "end_time": "2023-12-29T08:42:43.856716Z",
     "start_time": "2023-12-29T08:42:43.772569300Z"
    }
   },
   "id": "feeb9c7f5d1eedb4",
   "execution_count": 32
  },
  {
   "cell_type": "code",
   "outputs": [
    {
     "data": {
      "text/plain": "(1918, 63)"
     },
     "execution_count": 33,
     "metadata": {},
     "output_type": "execute_result"
    }
   ],
   "source": [
    "DataFrame_Gender.shape\n"
   ],
   "metadata": {
    "collapsed": false,
    "ExecuteTime": {
     "end_time": "2023-12-29T08:42:43.903798300Z",
     "start_time": "2023-12-29T08:42:43.787119Z"
    }
   },
   "id": "91e2c05922baba64",
   "execution_count": 33
  },
  {
   "cell_type": "code",
   "outputs": [
    {
     "name": "stdout",
     "output_type": "stream",
     "text": [
      "0\n"
     ]
    }
   ],
   "source": [
    "# Remove Dublicate Rows and columns\n",
    "print(DataFrame_Gender.duplicated().sum())\n",
    "# No Duplicate value exist"
   ],
   "metadata": {
    "collapsed": false,
    "ExecuteTime": {
     "end_time": "2023-12-29T08:42:43.943855400Z",
     "start_time": "2023-12-29T08:42:43.797630100Z"
    }
   },
   "id": "e97555f27e01969d",
   "execution_count": 34
  },
  {
   "cell_type": "code",
   "outputs": [
    {
     "data": {
      "text/plain": "YearStart        0\nData_Value       0\nSample_Size      0\nGender           0\nLocationID       0\n                ..\nVirginia         0\nWashington       0\nWest Virginia    0\nWisconsin        0\nWyoming          0\nLength: 63, dtype: int64"
     },
     "execution_count": 35,
     "metadata": {},
     "output_type": "execute_result"
    }
   ],
   "source": [
    "DataFrame_Gender.isnull().sum()"
   ],
   "metadata": {
    "collapsed": false,
    "ExecuteTime": {
     "end_time": "2023-12-29T08:42:43.947864300Z",
     "start_time": "2023-12-29T08:42:43.820658Z"
    }
   },
   "id": "4b118847b1136eae",
   "execution_count": 35
  },
  {
   "cell_type": "code",
   "outputs": [
    {
     "data": {
      "text/plain": "    YearStart  Data_Value  Sample_Size  Gender  LocationID  \\\n0        2011        32.3       2581.0       1           1   \n1        2011        31.8       4723.0       0           1   \n2        2011        39.0       2581.0       1           1   \n3        2011        30.5       4723.0       0           1   \n14       2012        27.4     257190.0       0          59   \n17       2011        29.6       2531.0       1           1   \n18       2011        35.3       4939.0       0           1   \n19       2012        31.8       3016.0       1           1   \n20       2012        34.1       5635.0       0           1   \n21       2012        30.4       5958.0       0           1   \n\n    Percent of adults aged 18 years and older who have an overweight classification  \\\n0                                                   0                                 \n1                                                   0                                 \n2                                                   1                                 \n3                                                   1                                 \n14                                                  0                                 \n17                                                  0                                 \n18                                                  0                                 \n19                                                  0                                 \n20                                                  0                                 \n21                                                  0                                 \n\n    Percent of adults aged 18 years and older who have obesity  \\\n0                                                   1            \n1                                                   1            \n2                                                   0            \n3                                                   0            \n14                                                  1            \n17                                                  0            \n18                                                  0            \n19                                                  1            \n20                                                  1            \n21                                                  0            \n\n    Percent of adults who engage in no leisure-time physical activity  \\\n0                                                   0                   \n1                                                   0                   \n2                                                   0                   \n3                                                   0                   \n14                                                  0                   \n17                                                  1                   \n18                                                  1                   \n19                                                  0                   \n20                                                  0                   \n21                                                  1                   \n\n    Alabama  Alaska  ...  Tennessee  Texas  Utah  Vermont  Virgin Islands  \\\n0         1       0  ...          0      0     0        0               0   \n1         1       0  ...          0      0     0        0               0   \n2         1       0  ...          0      0     0        0               0   \n3         1       0  ...          0      0     0        0               0   \n14        0       0  ...          0      0     0        0               0   \n17        1       0  ...          0      0     0        0               0   \n18        1       0  ...          0      0     0        0               0   \n19        1       0  ...          0      0     0        0               0   \n20        1       0  ...          0      0     0        0               0   \n21        1       0  ...          0      0     0        0               0   \n\n    Virginia  Washington  West Virginia  Wisconsin  Wyoming  \n0          0           0              0          0        0  \n1          0           0              0          0        0  \n2          0           0              0          0        0  \n3          0           0              0          0        0  \n14         0           0              0          0        0  \n17         0           0              0          0        0  \n18         0           0              0          0        0  \n19         0           0              0          0        0  \n20         0           0              0          0        0  \n21         0           0              0          0        0  \n\n[10 rows x 63 columns]",
      "text/html": "<div>\n<style scoped>\n    .dataframe tbody tr th:only-of-type {\n        vertical-align: middle;\n    }\n\n    .dataframe tbody tr th {\n        vertical-align: top;\n    }\n\n    .dataframe thead th {\n        text-align: right;\n    }\n</style>\n<table border=\"1\" class=\"dataframe\">\n  <thead>\n    <tr style=\"text-align: right;\">\n      <th></th>\n      <th>YearStart</th>\n      <th>Data_Value</th>\n      <th>Sample_Size</th>\n      <th>Gender</th>\n      <th>LocationID</th>\n      <th>Percent of adults aged 18 years and older who have an overweight classification</th>\n      <th>Percent of adults aged 18 years and older who have obesity</th>\n      <th>Percent of adults who engage in no leisure-time physical activity</th>\n      <th>Alabama</th>\n      <th>Alaska</th>\n      <th>...</th>\n      <th>Tennessee</th>\n      <th>Texas</th>\n      <th>Utah</th>\n      <th>Vermont</th>\n      <th>Virgin Islands</th>\n      <th>Virginia</th>\n      <th>Washington</th>\n      <th>West Virginia</th>\n      <th>Wisconsin</th>\n      <th>Wyoming</th>\n    </tr>\n  </thead>\n  <tbody>\n    <tr>\n      <th>0</th>\n      <td>2011</td>\n      <td>32.3</td>\n      <td>2581.0</td>\n      <td>1</td>\n      <td>1</td>\n      <td>0</td>\n      <td>1</td>\n      <td>0</td>\n      <td>1</td>\n      <td>0</td>\n      <td>...</td>\n      <td>0</td>\n      <td>0</td>\n      <td>0</td>\n      <td>0</td>\n      <td>0</td>\n      <td>0</td>\n      <td>0</td>\n      <td>0</td>\n      <td>0</td>\n      <td>0</td>\n    </tr>\n    <tr>\n      <th>1</th>\n      <td>2011</td>\n      <td>31.8</td>\n      <td>4723.0</td>\n      <td>0</td>\n      <td>1</td>\n      <td>0</td>\n      <td>1</td>\n      <td>0</td>\n      <td>1</td>\n      <td>0</td>\n      <td>...</td>\n      <td>0</td>\n      <td>0</td>\n      <td>0</td>\n      <td>0</td>\n      <td>0</td>\n      <td>0</td>\n      <td>0</td>\n      <td>0</td>\n      <td>0</td>\n      <td>0</td>\n    </tr>\n    <tr>\n      <th>2</th>\n      <td>2011</td>\n      <td>39.0</td>\n      <td>2581.0</td>\n      <td>1</td>\n      <td>1</td>\n      <td>1</td>\n      <td>0</td>\n      <td>0</td>\n      <td>1</td>\n      <td>0</td>\n      <td>...</td>\n      <td>0</td>\n      <td>0</td>\n      <td>0</td>\n      <td>0</td>\n      <td>0</td>\n      <td>0</td>\n      <td>0</td>\n      <td>0</td>\n      <td>0</td>\n      <td>0</td>\n    </tr>\n    <tr>\n      <th>3</th>\n      <td>2011</td>\n      <td>30.5</td>\n      <td>4723.0</td>\n      <td>0</td>\n      <td>1</td>\n      <td>1</td>\n      <td>0</td>\n      <td>0</td>\n      <td>1</td>\n      <td>0</td>\n      <td>...</td>\n      <td>0</td>\n      <td>0</td>\n      <td>0</td>\n      <td>0</td>\n      <td>0</td>\n      <td>0</td>\n      <td>0</td>\n      <td>0</td>\n      <td>0</td>\n      <td>0</td>\n    </tr>\n    <tr>\n      <th>14</th>\n      <td>2012</td>\n      <td>27.4</td>\n      <td>257190.0</td>\n      <td>0</td>\n      <td>59</td>\n      <td>0</td>\n      <td>1</td>\n      <td>0</td>\n      <td>0</td>\n      <td>0</td>\n      <td>...</td>\n      <td>0</td>\n      <td>0</td>\n      <td>0</td>\n      <td>0</td>\n      <td>0</td>\n      <td>0</td>\n      <td>0</td>\n      <td>0</td>\n      <td>0</td>\n      <td>0</td>\n    </tr>\n    <tr>\n      <th>17</th>\n      <td>2011</td>\n      <td>29.6</td>\n      <td>2531.0</td>\n      <td>1</td>\n      <td>1</td>\n      <td>0</td>\n      <td>0</td>\n      <td>1</td>\n      <td>1</td>\n      <td>0</td>\n      <td>...</td>\n      <td>0</td>\n      <td>0</td>\n      <td>0</td>\n      <td>0</td>\n      <td>0</td>\n      <td>0</td>\n      <td>0</td>\n      <td>0</td>\n      <td>0</td>\n      <td>0</td>\n    </tr>\n    <tr>\n      <th>18</th>\n      <td>2011</td>\n      <td>35.3</td>\n      <td>4939.0</td>\n      <td>0</td>\n      <td>1</td>\n      <td>0</td>\n      <td>0</td>\n      <td>1</td>\n      <td>1</td>\n      <td>0</td>\n      <td>...</td>\n      <td>0</td>\n      <td>0</td>\n      <td>0</td>\n      <td>0</td>\n      <td>0</td>\n      <td>0</td>\n      <td>0</td>\n      <td>0</td>\n      <td>0</td>\n      <td>0</td>\n    </tr>\n    <tr>\n      <th>19</th>\n      <td>2012</td>\n      <td>31.8</td>\n      <td>3016.0</td>\n      <td>1</td>\n      <td>1</td>\n      <td>0</td>\n      <td>1</td>\n      <td>0</td>\n      <td>1</td>\n      <td>0</td>\n      <td>...</td>\n      <td>0</td>\n      <td>0</td>\n      <td>0</td>\n      <td>0</td>\n      <td>0</td>\n      <td>0</td>\n      <td>0</td>\n      <td>0</td>\n      <td>0</td>\n      <td>0</td>\n    </tr>\n    <tr>\n      <th>20</th>\n      <td>2012</td>\n      <td>34.1</td>\n      <td>5635.0</td>\n      <td>0</td>\n      <td>1</td>\n      <td>0</td>\n      <td>1</td>\n      <td>0</td>\n      <td>1</td>\n      <td>0</td>\n      <td>...</td>\n      <td>0</td>\n      <td>0</td>\n      <td>0</td>\n      <td>0</td>\n      <td>0</td>\n      <td>0</td>\n      <td>0</td>\n      <td>0</td>\n      <td>0</td>\n      <td>0</td>\n    </tr>\n    <tr>\n      <th>21</th>\n      <td>2012</td>\n      <td>30.4</td>\n      <td>5958.0</td>\n      <td>0</td>\n      <td>1</td>\n      <td>0</td>\n      <td>0</td>\n      <td>1</td>\n      <td>1</td>\n      <td>0</td>\n      <td>...</td>\n      <td>0</td>\n      <td>0</td>\n      <td>0</td>\n      <td>0</td>\n      <td>0</td>\n      <td>0</td>\n      <td>0</td>\n      <td>0</td>\n      <td>0</td>\n      <td>0</td>\n    </tr>\n  </tbody>\n</table>\n<p>10 rows × 63 columns</p>\n</div>"
     },
     "execution_count": 36,
     "metadata": {},
     "output_type": "execute_result"
    }
   ],
   "source": [
    "DataFrame_Gender.head(10)\n"
   ],
   "metadata": {
    "collapsed": false,
    "ExecuteTime": {
     "end_time": "2023-12-29T08:42:43.959383800Z",
     "start_time": "2023-12-29T08:42:43.836688900Z"
    }
   },
   "id": "cdbfd84d033f2b5e",
   "execution_count": 36
  },
  {
   "cell_type": "code",
   "outputs": [],
   "source": [
    "# Split the data into train and test for year start different value\n",
    "y = DataFrame_Gender.pop('Data_Value')\n",
    "x_train,x_test,y_train,y_test = train_test_split(\n",
    "    DataFrame_Gender,y,test_size=0.2,random_state=0,stratify=DataFrame_Gender['YearStart']) \n",
    "\n"
   ],
   "metadata": {
    "collapsed": false,
    "ExecuteTime": {
     "end_time": "2023-12-29T08:42:43.976915300Z",
     "start_time": "2023-12-29T08:42:43.863220900Z"
    }
   },
   "id": "89152a1e82c49c3d",
   "execution_count": 37
  },
  {
   "cell_type": "code",
   "outputs": [
    {
     "data": {
      "text/plain": "LinearRegression()",
      "text/html": "<style>#sk-container-id-1 {color: black;}#sk-container-id-1 pre{padding: 0;}#sk-container-id-1 div.sk-toggleable {background-color: white;}#sk-container-id-1 label.sk-toggleable__label {cursor: pointer;display: block;width: 100%;margin-bottom: 0;padding: 0.3em;box-sizing: border-box;text-align: center;}#sk-container-id-1 label.sk-toggleable__label-arrow:before {content: \"▸\";float: left;margin-right: 0.25em;color: #696969;}#sk-container-id-1 label.sk-toggleable__label-arrow:hover:before {color: black;}#sk-container-id-1 div.sk-estimator:hover label.sk-toggleable__label-arrow:before {color: black;}#sk-container-id-1 div.sk-toggleable__content {max-height: 0;max-width: 0;overflow: hidden;text-align: left;background-color: #f0f8ff;}#sk-container-id-1 div.sk-toggleable__content pre {margin: 0.2em;color: black;border-radius: 0.25em;background-color: #f0f8ff;}#sk-container-id-1 input.sk-toggleable__control:checked~div.sk-toggleable__content {max-height: 200px;max-width: 100%;overflow: auto;}#sk-container-id-1 input.sk-toggleable__control:checked~label.sk-toggleable__label-arrow:before {content: \"▾\";}#sk-container-id-1 div.sk-estimator input.sk-toggleable__control:checked~label.sk-toggleable__label {background-color: #d4ebff;}#sk-container-id-1 div.sk-label input.sk-toggleable__control:checked~label.sk-toggleable__label {background-color: #d4ebff;}#sk-container-id-1 input.sk-hidden--visually {border: 0;clip: rect(1px 1px 1px 1px);clip: rect(1px, 1px, 1px, 1px);height: 1px;margin: -1px;overflow: hidden;padding: 0;position: absolute;width: 1px;}#sk-container-id-1 div.sk-estimator {font-family: monospace;background-color: #f0f8ff;border: 1px dotted black;border-radius: 0.25em;box-sizing: border-box;margin-bottom: 0.5em;}#sk-container-id-1 div.sk-estimator:hover {background-color: #d4ebff;}#sk-container-id-1 div.sk-parallel-item::after {content: \"\";width: 100%;border-bottom: 1px solid gray;flex-grow: 1;}#sk-container-id-1 div.sk-label:hover label.sk-toggleable__label {background-color: #d4ebff;}#sk-container-id-1 div.sk-serial::before {content: \"\";position: absolute;border-left: 1px solid gray;box-sizing: border-box;top: 0;bottom: 0;left: 50%;z-index: 0;}#sk-container-id-1 div.sk-serial {display: flex;flex-direction: column;align-items: center;background-color: white;padding-right: 0.2em;padding-left: 0.2em;position: relative;}#sk-container-id-1 div.sk-item {position: relative;z-index: 1;}#sk-container-id-1 div.sk-parallel {display: flex;align-items: stretch;justify-content: center;background-color: white;position: relative;}#sk-container-id-1 div.sk-item::before, #sk-container-id-1 div.sk-parallel-item::before {content: \"\";position: absolute;border-left: 1px solid gray;box-sizing: border-box;top: 0;bottom: 0;left: 50%;z-index: -1;}#sk-container-id-1 div.sk-parallel-item {display: flex;flex-direction: column;z-index: 1;position: relative;background-color: white;}#sk-container-id-1 div.sk-parallel-item:first-child::after {align-self: flex-end;width: 50%;}#sk-container-id-1 div.sk-parallel-item:last-child::after {align-self: flex-start;width: 50%;}#sk-container-id-1 div.sk-parallel-item:only-child::after {width: 0;}#sk-container-id-1 div.sk-dashed-wrapped {border: 1px dashed gray;margin: 0 0.4em 0.5em 0.4em;box-sizing: border-box;padding-bottom: 0.4em;background-color: white;}#sk-container-id-1 div.sk-label label {font-family: monospace;font-weight: bold;display: inline-block;line-height: 1.2em;}#sk-container-id-1 div.sk-label-container {text-align: center;}#sk-container-id-1 div.sk-container {/* jupyter's `normalize.less` sets `[hidden] { display: none; }` but bootstrap.min.css set `[hidden] { display: none !important; }` so we also need the `!important` here to be able to override the default hidden behavior on the sphinx rendered scikit-learn.org. See: https://github.com/scikit-learn/scikit-learn/issues/21755 */display: inline-block !important;position: relative;}#sk-container-id-1 div.sk-text-repr-fallback {display: none;}</style><div id=\"sk-container-id-1\" class=\"sk-top-container\"><div class=\"sk-text-repr-fallback\"><pre>LinearRegression()</pre><b>In a Jupyter environment, please rerun this cell to show the HTML representation or trust the notebook. <br />On GitHub, the HTML representation is unable to render, please try loading this page with nbviewer.org.</b></div><div class=\"sk-container\" hidden><div class=\"sk-item\"><div class=\"sk-estimator sk-toggleable\"><input class=\"sk-toggleable__control sk-hidden--visually\" id=\"sk-estimator-id-1\" type=\"checkbox\" checked><label for=\"sk-estimator-id-1\" class=\"sk-toggleable__label sk-toggleable__label-arrow\">LinearRegression</label><div class=\"sk-toggleable__content\"><pre>LinearRegression()</pre></div></div></div></div></div>"
     },
     "execution_count": 38,
     "metadata": {},
     "output_type": "execute_result"
    }
   ],
   "source": [
    "# linear regression model\n",
    "\n",
    "\n",
    "Model = LinearRegression()\n",
    "\n",
    "Model.fit(x_train,y_train)\n"
   ],
   "metadata": {
    "collapsed": false,
    "ExecuteTime": {
     "end_time": "2023-12-29T08:42:44.148212700Z",
     "start_time": "2023-12-29T08:42:43.882253500Z"
    }
   },
   "id": "434e870fa5699f5b",
   "execution_count": 38
  },
  {
   "cell_type": "code",
   "outputs": [],
   "source": [
    "# predict the value\n",
    "y_pred = Model.predict(x_test)\n"
   ],
   "metadata": {
    "collapsed": false,
    "ExecuteTime": {
     "end_time": "2023-12-29T08:42:44.165236400Z",
     "start_time": "2023-12-29T08:42:44.035040300Z"
    }
   },
   "id": "f45029a99de156e4",
   "execution_count": 39
  },
  {
   "cell_type": "code",
   "outputs": [
    {
     "data": {
      "text/plain": "0.5701788629115581"
     },
     "execution_count": 40,
     "metadata": {},
     "output_type": "execute_result"
    }
   ],
   "source": [
    "Model.score(x_test,y_test)"
   ],
   "metadata": {
    "collapsed": false,
    "ExecuteTime": {
     "end_time": "2023-12-29T08:42:44.407129100Z",
     "start_time": "2023-12-29T08:42:44.041045900Z"
    }
   },
   "id": "78a74350aebdfc9b",
   "execution_count": 40
  },
  {
   "cell_type": "code",
   "outputs": [
    {
     "name": "stdout",
     "output_type": "stream",
     "text": [
      "18.356353689742985\n"
     ]
    }
   ],
   "source": [
    "# calculate the mean squared error\n",
    "mse = mean_squared_error(y_test,y_pred)\n",
    "print(mse)\n"
   ],
   "metadata": {
    "collapsed": false,
    "ExecuteTime": {
     "end_time": "2023-12-29T08:42:44.408129600Z",
     "start_time": "2023-12-29T08:42:44.065597700Z"
    }
   },
   "id": "7ce3175693553c93",
   "execution_count": 41
  },
  {
   "cell_type": "code",
   "outputs": [
    {
     "name": "stdout",
     "output_type": "stream",
     "text": [
      "4.2844315480286275\n"
     ]
    }
   ],
   "source": [
    "# calculate the root mean squared error\n",
    "rmse = np.sqrt(mse)\n",
    "print(rmse)\n"
   ],
   "metadata": {
    "collapsed": false,
    "ExecuteTime": {
     "end_time": "2023-12-29T08:42:44.410126200Z",
     "start_time": "2023-12-29T08:42:44.081613200Z"
    }
   },
   "id": "343625e711edaab4",
   "execution_count": 42
  },
  {
   "cell_type": "code",
   "outputs": [
    {
     "ename": "ValueError",
     "evalue": "continuous is not supported",
     "output_type": "error",
     "traceback": [
      "\u001B[1;31m---------------------------------------------------------------------------\u001B[0m",
      "\u001B[1;31mValueError\u001B[0m                                Traceback (most recent call last)",
      "Cell \u001B[1;32mIn[43], line 1\u001B[0m\n\u001B[1;32m----> 1\u001B[0m cf \u001B[38;5;241m=\u001B[39m \u001B[43mconfusion_matrix\u001B[49m\u001B[43m(\u001B[49m\u001B[43my_test\u001B[49m\u001B[43m,\u001B[49m\u001B[43my_pred\u001B[49m\u001B[43m)\u001B[49m\n\u001B[0;32m      2\u001B[0m \u001B[38;5;28mprint\u001B[39m(cf)\n",
      "File \u001B[1;32mA:\\Python_Interpreter\\Kaggle-Machine-Learning\\lib\\site-packages\\sklearn\\utils\\_param_validation.py:214\u001B[0m, in \u001B[0;36mvalidate_params.<locals>.decorator.<locals>.wrapper\u001B[1;34m(*args, **kwargs)\u001B[0m\n\u001B[0;32m    208\u001B[0m \u001B[38;5;28;01mtry\u001B[39;00m:\n\u001B[0;32m    209\u001B[0m     \u001B[38;5;28;01mwith\u001B[39;00m config_context(\n\u001B[0;32m    210\u001B[0m         skip_parameter_validation\u001B[38;5;241m=\u001B[39m(\n\u001B[0;32m    211\u001B[0m             prefer_skip_nested_validation \u001B[38;5;129;01mor\u001B[39;00m global_skip_validation\n\u001B[0;32m    212\u001B[0m         )\n\u001B[0;32m    213\u001B[0m     ):\n\u001B[1;32m--> 214\u001B[0m         \u001B[38;5;28;01mreturn\u001B[39;00m func(\u001B[38;5;241m*\u001B[39margs, \u001B[38;5;241m*\u001B[39m\u001B[38;5;241m*\u001B[39mkwargs)\n\u001B[0;32m    215\u001B[0m \u001B[38;5;28;01mexcept\u001B[39;00m InvalidParameterError \u001B[38;5;28;01mas\u001B[39;00m e:\n\u001B[0;32m    216\u001B[0m     \u001B[38;5;66;03m# When the function is just a wrapper around an estimator, we allow\u001B[39;00m\n\u001B[0;32m    217\u001B[0m     \u001B[38;5;66;03m# the function to delegate validation to the estimator, but we replace\u001B[39;00m\n\u001B[0;32m    218\u001B[0m     \u001B[38;5;66;03m# the name of the estimator by the name of the function in the error\u001B[39;00m\n\u001B[0;32m    219\u001B[0m     \u001B[38;5;66;03m# message to avoid confusion.\u001B[39;00m\n\u001B[0;32m    220\u001B[0m     msg \u001B[38;5;241m=\u001B[39m re\u001B[38;5;241m.\u001B[39msub(\n\u001B[0;32m    221\u001B[0m         \u001B[38;5;124mr\u001B[39m\u001B[38;5;124m\"\u001B[39m\u001B[38;5;124mparameter of \u001B[39m\u001B[38;5;124m\\\u001B[39m\u001B[38;5;124mw+ must be\u001B[39m\u001B[38;5;124m\"\u001B[39m,\n\u001B[0;32m    222\u001B[0m         \u001B[38;5;124mf\u001B[39m\u001B[38;5;124m\"\u001B[39m\u001B[38;5;124mparameter of \u001B[39m\u001B[38;5;132;01m{\u001B[39;00mfunc\u001B[38;5;241m.\u001B[39m\u001B[38;5;18m__qualname__\u001B[39m\u001B[38;5;132;01m}\u001B[39;00m\u001B[38;5;124m must be\u001B[39m\u001B[38;5;124m\"\u001B[39m,\n\u001B[0;32m    223\u001B[0m         \u001B[38;5;28mstr\u001B[39m(e),\n\u001B[0;32m    224\u001B[0m     )\n",
      "File \u001B[1;32mA:\\Python_Interpreter\\Kaggle-Machine-Learning\\lib\\site-packages\\sklearn\\metrics\\_classification.py:326\u001B[0m, in \u001B[0;36mconfusion_matrix\u001B[1;34m(y_true, y_pred, labels, sample_weight, normalize)\u001B[0m\n\u001B[0;32m    231\u001B[0m \u001B[38;5;129m@validate_params\u001B[39m(\n\u001B[0;32m    232\u001B[0m     {\n\u001B[0;32m    233\u001B[0m         \u001B[38;5;124m\"\u001B[39m\u001B[38;5;124my_true\u001B[39m\u001B[38;5;124m\"\u001B[39m: [\u001B[38;5;124m\"\u001B[39m\u001B[38;5;124marray-like\u001B[39m\u001B[38;5;124m\"\u001B[39m],\n\u001B[1;32m   (...)\u001B[0m\n\u001B[0;32m    242\u001B[0m     y_true, y_pred, \u001B[38;5;241m*\u001B[39m, labels\u001B[38;5;241m=\u001B[39m\u001B[38;5;28;01mNone\u001B[39;00m, sample_weight\u001B[38;5;241m=\u001B[39m\u001B[38;5;28;01mNone\u001B[39;00m, normalize\u001B[38;5;241m=\u001B[39m\u001B[38;5;28;01mNone\u001B[39;00m\n\u001B[0;32m    243\u001B[0m ):\n\u001B[0;32m    244\u001B[0m \u001B[38;5;250m    \u001B[39m\u001B[38;5;124;03m\"\"\"Compute confusion matrix to evaluate the accuracy of a classification.\u001B[39;00m\n\u001B[0;32m    245\u001B[0m \n\u001B[0;32m    246\u001B[0m \u001B[38;5;124;03m    By definition a confusion matrix :math:`C` is such that :math:`C_{i, j}`\u001B[39;00m\n\u001B[1;32m   (...)\u001B[0m\n\u001B[0;32m    324\u001B[0m \u001B[38;5;124;03m    (0, 2, 1, 1)\u001B[39;00m\n\u001B[0;32m    325\u001B[0m \u001B[38;5;124;03m    \"\"\"\u001B[39;00m\n\u001B[1;32m--> 326\u001B[0m     y_type, y_true, y_pred \u001B[38;5;241m=\u001B[39m \u001B[43m_check_targets\u001B[49m\u001B[43m(\u001B[49m\u001B[43my_true\u001B[49m\u001B[43m,\u001B[49m\u001B[43m \u001B[49m\u001B[43my_pred\u001B[49m\u001B[43m)\u001B[49m\n\u001B[0;32m    327\u001B[0m     \u001B[38;5;28;01mif\u001B[39;00m y_type \u001B[38;5;129;01mnot\u001B[39;00m \u001B[38;5;129;01min\u001B[39;00m (\u001B[38;5;124m\"\u001B[39m\u001B[38;5;124mbinary\u001B[39m\u001B[38;5;124m\"\u001B[39m, \u001B[38;5;124m\"\u001B[39m\u001B[38;5;124mmulticlass\u001B[39m\u001B[38;5;124m\"\u001B[39m):\n\u001B[0;32m    328\u001B[0m         \u001B[38;5;28;01mraise\u001B[39;00m \u001B[38;5;167;01mValueError\u001B[39;00m(\u001B[38;5;124m\"\u001B[39m\u001B[38;5;132;01m%s\u001B[39;00m\u001B[38;5;124m is not supported\u001B[39m\u001B[38;5;124m\"\u001B[39m \u001B[38;5;241m%\u001B[39m y_type)\n",
      "File \u001B[1;32mA:\\Python_Interpreter\\Kaggle-Machine-Learning\\lib\\site-packages\\sklearn\\metrics\\_classification.py:104\u001B[0m, in \u001B[0;36m_check_targets\u001B[1;34m(y_true, y_pred)\u001B[0m\n\u001B[0;32m    102\u001B[0m \u001B[38;5;66;03m# No metrics support \"multiclass-multioutput\" format\u001B[39;00m\n\u001B[0;32m    103\u001B[0m \u001B[38;5;28;01mif\u001B[39;00m y_type \u001B[38;5;129;01mnot\u001B[39;00m \u001B[38;5;129;01min\u001B[39;00m [\u001B[38;5;124m\"\u001B[39m\u001B[38;5;124mbinary\u001B[39m\u001B[38;5;124m\"\u001B[39m, \u001B[38;5;124m\"\u001B[39m\u001B[38;5;124mmulticlass\u001B[39m\u001B[38;5;124m\"\u001B[39m, \u001B[38;5;124m\"\u001B[39m\u001B[38;5;124mmultilabel-indicator\u001B[39m\u001B[38;5;124m\"\u001B[39m]:\n\u001B[1;32m--> 104\u001B[0m     \u001B[38;5;28;01mraise\u001B[39;00m \u001B[38;5;167;01mValueError\u001B[39;00m(\u001B[38;5;124m\"\u001B[39m\u001B[38;5;132;01m{0}\u001B[39;00m\u001B[38;5;124m is not supported\u001B[39m\u001B[38;5;124m\"\u001B[39m\u001B[38;5;241m.\u001B[39mformat(y_type))\n\u001B[0;32m    106\u001B[0m \u001B[38;5;28;01mif\u001B[39;00m y_type \u001B[38;5;129;01min\u001B[39;00m [\u001B[38;5;124m\"\u001B[39m\u001B[38;5;124mbinary\u001B[39m\u001B[38;5;124m\"\u001B[39m, \u001B[38;5;124m\"\u001B[39m\u001B[38;5;124mmulticlass\u001B[39m\u001B[38;5;124m\"\u001B[39m]:\n\u001B[0;32m    107\u001B[0m     y_true \u001B[38;5;241m=\u001B[39m column_or_1d(y_true)\n",
      "\u001B[1;31mValueError\u001B[0m: continuous is not supported"
     ]
    }
   ],
   "source": [],
   "metadata": {
    "collapsed": false,
    "ExecuteTime": {
     "end_time": "2023-12-29T08:42:44.565867700Z",
     "start_time": "2023-12-29T08:42:44.099643900Z"
    }
   },
   "id": "b8905ec264f436dc",
   "execution_count": 43
  }
 ],
 "metadata": {
  "kernelspec": {
   "display_name": "Python 3",
   "language": "python",
   "name": "python3"
  },
  "language_info": {
   "codemirror_mode": {
    "name": "ipython",
    "version": 2
   },
   "file_extension": ".py",
   "mimetype": "text/x-python",
   "name": "python",
   "nbconvert_exporter": "python",
   "pygments_lexer": "ipython2",
   "version": "2.7.6"
  }
 },
 "nbformat": 4,
 "nbformat_minor": 5
}
